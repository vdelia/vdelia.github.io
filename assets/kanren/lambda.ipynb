{
 "cells": [
  {
   "cell_type": "markdown",
   "metadata": {},
   "source": [
    "based on https://en.wikipedia.org/wiki/Lambda_calculus#Encoding_datatypes"
   ]
  },
  {
   "cell_type": "markdown",
   "metadata": {},
   "source": [
    "## Helpers"
   ]
  },
  {
   "cell_type": "code",
   "execution_count": 1,
   "metadata": {
    "collapsed": true
   },
   "outputs": [],
   "source": [
    "def _increment(x):\n",
    "    return x + 1\n",
    "\n",
    "def to_int(church_numeral):\n",
    "    return church_numeral(_increment)(0)\n",
    "\n",
    "def check_numeral(church_numeral, numeral):\n",
    "    assert to_int(church_numeral) == numeral\n",
    "\n",
    "import inspect\n",
    "\n",
    "def get_definition(f):\n",
    "    return inspect.getsource(f).split(\"=\")[1].strip()\n",
    "\n",
    "\n",
    "    "
   ]
  },
  {
   "cell_type": "markdown",
   "metadata": {},
   "source": [
    "## Arithmetics"
   ]
  },
  {
   "cell_type": "markdown",
   "metadata": {},
   "source": [
    "Numerals:\n",
    "\n",
    "*   0: λf.λx.x\n",
    "*   1: λf.λx.f x\n",
    "*   2: λf.λx.f (f x)\n",
    "*   3: λf.λx.f (f (f x))"
   ]
  },
  {
   "cell_type": "code",
   "execution_count": 2,
   "metadata": {
    "collapsed": false
   },
   "outputs": [],
   "source": [
    "_ZERO = lambda f: lambda x: x\n",
    "_ONE = lambda f: lambda x: f(x)\n",
    "_TWO = lambda f: lambda x: f(f(x))\n",
    "_THREE = lambda f: lambda x: f(f(f(x)))\n",
    "\n",
    "check_numeral(_ZERO, 0)\n",
    "check_numeral(_ONE, 1)\n",
    "check_numeral(_TWO, 2)\n",
    "check_numeral(_THREE, 3)"
   ]
  },
  {
   "cell_type": "markdown",
   "metadata": {},
   "source": [
    "SUCC := λn.λf.λx.f (n f x)"
   ]
  },
  {
   "cell_type": "code",
   "execution_count": 3,
   "metadata": {
    "collapsed": false
   },
   "outputs": [],
   "source": [
    "_SUCC = lambda n: lambda f: lambda x: f(n(f)(x))\n",
    "\n",
    "check_numeral(_SUCC(_ZERO), 1)\n",
    "check_numeral(_SUCC(_SUCC(_ZERO)), 2)\n",
    "check_numeral(_SUCC(_SUCC(_SUCC(_ZERO))), 3)"
   ]
  },
  {
   "cell_type": "markdown",
   "metadata": {},
   "source": [
    "PLUS := λm.λn.λf.λx.m f (n f x)"
   ]
  },
  {
   "cell_type": "code",
   "execution_count": 4,
   "metadata": {
    "collapsed": false
   },
   "outputs": [],
   "source": [
    "_PLUS = lambda m: lambda n: lambda f: lambda x: m(f)(n(f)(x))\n",
    "_FIVE = _SUCC(_SUCC(lambda f: lambda x: f(f(f(x)))))\n",
    "\n",
    "check_numeral(_PLUS(_THREE)(_ZERO), 3)\n",
    "check_numeral(_PLUS(_THREE)(_ONE), 4)\n",
    "check_numeral(_PLUS(_THREE)(_FIVE), 8)"
   ]
  },
  {
   "cell_type": "markdown",
   "metadata": {},
   "source": [
    "MULT := λm.λn.λf.m (n f)"
   ]
  },
  {
   "cell_type": "code",
   "execution_count": 5,
   "metadata": {
    "collapsed": true
   },
   "outputs": [],
   "source": [
    "_MULT = lambda m: lambda n: lambda f: m(n(f))\n",
    "\n",
    "check_numeral(_MULT(_THREE)(_ZERO), 0)\n",
    "check_numeral(_MULT(_THREE)(_ONE), 3)\n",
    "check_numeral(_MULT(_THREE)(_FIVE), 15)"
   ]
  },
  {
   "cell_type": "markdown",
   "metadata": {},
   "source": [
    "POW := λb.λe.e b"
   ]
  },
  {
   "cell_type": "code",
   "execution_count": 6,
   "metadata": {
    "collapsed": false
   },
   "outputs": [],
   "source": [
    "_POWER = lambda m: lambda n: n(m)\n",
    "\n",
    "check_numeral(_POWER(_THREE)(_ZERO), 1)\n",
    "check_numeral(_POWER(_THREE)(_ONE), 3)\n",
    "check_numeral(_POWER(_THREE)(_FIVE), 243)"
   ]
  },
  {
   "cell_type": "markdown",
   "metadata": {},
   "source": [
    "PRED := λn.λf.λx.n (λg.λh.h (g f)) (λu.x) (λu.u)"
   ]
  },
  {
   "cell_type": "code",
   "execution_count": 7,
   "metadata": {
    "collapsed": false
   },
   "outputs": [],
   "source": [
    "_PRED = lambda n: lambda f: lambda x: n(lambda g: lambda h: h(g(f)))(lambda u: x)(lambda u: u)\n",
    "\n",
    "check_numeral(_PRED(_ONE), 0)\n",
    "check_numeral(_PRED(_TWO), 1)\n",
    "check_numeral(_PRED(_THREE), 2)"
   ]
  },
  {
   "cell_type": "markdown",
   "metadata": {},
   "source": [
    "SUB := λm.λn.n PRED m"
   ]
  },
  {
   "cell_type": "code",
   "execution_count": 8,
   "metadata": {
    "collapsed": false
   },
   "outputs": [],
   "source": [
    "_SUB = lambda m: lambda n: n(lambda n: lambda f: lambda x: n(lambda g: lambda h: h(g(f)))(lambda u: x)(lambda u: u))(m)\n",
    "\n",
    "check_numeral(_SUB(_THREE)(_ZERO), 3)\n",
    "check_numeral(_SUB(_THREE)(_TWO), 1)\n",
    "check_numeral(_SUB(_FIVE)(_TWO), 3)"
   ]
  },
  {
   "cell_type": "markdown",
   "metadata": {},
   "source": [
    "## Logic and predicates\n",
    "\n",
    "### Booleans"
   ]
  },
  {
   "cell_type": "markdown",
   "metadata": {},
   "source": [
    "*   TRUE := λx.λy.x\n",
    "*   FALSE := λx.λy.y"
   ]
  },
  {
   "cell_type": "code",
   "execution_count": 9,
   "metadata": {
    "collapsed": true
   },
   "outputs": [],
   "source": [
    "_TRUE = lambda x: lambda y: x\n",
    "_FALSE = lambda x: lambda y: y"
   ]
  },
  {
   "cell_type": "markdown",
   "metadata": {},
   "source": [
    "### Operators\n",
    "\n",
    "*   AND := λp.λq.p q p\n",
    "*   OR := λp.λq.p p q\n",
    "*   NOT := λp.λa.λb.p b a\n",
    "*   IFTHENELSE := λp.λa.λb.p a b"
   ]
  },
  {
   "cell_type": "code",
   "execution_count": 10,
   "metadata": {
    "collapsed": false
   },
   "outputs": [],
   "source": [
    "_AND = lambda p: lambda q: p(q)(p)\n",
    "_OR = lambda p: lambda q: p(p)(q)\n",
    "_NOT = lambda p: lambda a: lambda b: p(b)(a)\n",
    "_IFTHENELSE = lambda p: lambda a: lambda b: p(a)(b)\n",
    "\n",
    "assert _AND(_TRUE)(_TRUE)(1)(0) == 1\n",
    "assert _AND(_FALSE)(_TRUE)(1)(0) == 0\n",
    "assert _OR(_FALSE)(_TRUE)(1)(0) == 1\n",
    "assert _NOT(_FALSE)(1)(0) == 1\n",
    "assert _NOT(_TRUE)(1)(0) == 0\n",
    "assert _IFTHENELSE(_TRUE)(42)(33) == 42\n",
    "assert _IFTHENELSE(_FALSE)(42)(33) == 33"
   ]
  },
  {
   "cell_type": "markdown",
   "metadata": {},
   "source": [
    "### Basic predicates\n",
    "\n",
    "ISZERO := λn.n (λx.FALSE) TRUE"
   ]
  },
  {
   "cell_type": "code",
   "execution_count": 11,
   "metadata": {
    "collapsed": true
   },
   "outputs": [],
   "source": [
    "_ISZERO = lambda n: n(lambda x: (lambda x: lambda y: y))(lambda x: lambda y: x)\n",
    "\n",
    "assert _ISZERO(_ZERO)(1)(0) == 1\n",
    "assert _ISZERO(_TWO)(1)(0) == 0"
   ]
  },
  {
   "cell_type": "markdown",
   "metadata": {},
   "source": [
    "LEQ := λm.λn.ISZERO (SUB m n)\n",
    "\n",
    "EQ := (λe.λm.λn.(AND (e m n))(e n m) )LEQ"
   ]
  },
  {
   "cell_type": "code",
   "execution_count": 12,
   "metadata": {
    "collapsed": false
   },
   "outputs": [],
   "source": [
    "_LEQ = lambda m: lambda n: (lambda n: n(lambda x: (lambda x: lambda y: y))(lambda x: lambda y: x))\\\n",
    "    ((lambda m: lambda n: n(lambda n: lambda f: lambda x: n(lambda g: lambda h: h(g(f)))(lambda u: x)(lambda u: u))(m))(m)(n))\n",
    "_EQ = (lambda leq: lambda m: lambda n: (lambda p: lambda q: p(q)(p))(leq(m)(n))(leq(n)(m)))(lambda m: lambda n: (lambda n: n(lambda x: (lambda x: lambda y: y))(lambda x: lambda y: x))\\\n",
    "    ((lambda m: lambda n: n(lambda n: lambda f: lambda x: n(lambda g: lambda h: h(g(f)))(lambda u: x)(lambda u: u))(m))(m)(n)))\n",
    "    \n",
    "assert _LEQ(_ZERO)(_ONE)(1)(0) == 1\n",
    "assert _LEQ(_ONE)(_THREE)(1)(0) == 1\n",
    "assert _LEQ(_THREE)(_ONE)(1)(0) == 0\n",
    "assert _LEQ(_ONE)(_ONE)(1)(0) == 1\n",
    "assert _EQ(_ONE)(_ONE)(1)(0) == 1\n",
    "assert _EQ(_ONE)(_TWO)(1)(0) == 0"
   ]
  },
  {
   "cell_type": "markdown",
   "metadata": {},
   "source": [
    "# Pairs\n",
    "\n",
    "*   PAIR := λx.λy.λf.f x y\n",
    "*   FIRST := λp.p TRUE\n",
    "*   SECOND := λp.p FALSE\n",
    "*   NIL := λx.TRUE\n",
    "*   NULL := λp.p (λx.λy.FALSE)"
   ]
  },
  {
   "cell_type": "code",
   "execution_count": 13,
   "metadata": {
    "collapsed": false
   },
   "outputs": [],
   "source": [
    "_PAIR = lambda x: lambda y: lambda f: f(x)(y)\n",
    "_FIRST = lambda p: p(lambda x: lambda y: x)\n",
    "_SECOND = lambda p: p(lambda x: lambda y: y)\n",
    "_NIL = lambda x: lambda x: lambda y: x\n",
    "_NULL = lambda p: p(lambda x: lambda y: (lambda x: lambda y: y))\n",
    "\n",
    "check_numeral(_FIRST(_PAIR(_ONE)(_TWO)), 1)\n",
    "check_numeral(_SECOND(_PAIR(_ONE)(_TWO)), 2)"
   ]
  },
  {
   "cell_type": "markdown",
   "metadata": {},
   "source": [
    "# Recursion"
   ]
  },
  {
   "cell_type": "code",
   "execution_count": 49,
   "metadata": {
    "collapsed": false
   },
   "outputs": [
    {
     "data": {
      "text/plain": [
       "120"
      ]
     },
     "execution_count": 49,
     "metadata": {},
     "output_type": "execute_result"
    }
   ],
   "source": [
    "Y = lambda f: (lambda g: g(g))(lambda h: f(lambda x: (h(h))(x)))\n",
    "# factorial\n",
    "def factorial_of_5():\n",
    "    return \\\n",
    "    (((lambda f: (lambda g: g(g))(lambda h: f(lambda x: (h(h))(x))))  # Y\n",
    "      (lambda factorial: # a name to recur\n",
    "       (lambda n:\n",
    "           (((lambda n: n(lambda x: (lambda x: lambda y: y))(lambda x: lambda y: x))(n)) # If it's 0\n",
    "            (lambda _: (lambda f: lambda x: f(x))) # then 1\n",
    "            (lambda _: (lambda m: lambda n: lambda f: m(n(f))) # else multiply\n",
    "             (n) # n by\n",
    "             (factorial( # recursive call to factorial\n",
    "                (lambda n: lambda f: lambda x: n(lambda g: lambda h: h(g(f)))(lambda u: x)(lambda u: u))(n) # pred of n\n",
    "        ))))(0))))\n",
    "     ((lambda f: lambda x: f(f(f(f(f(x)))))))) # 5\n",
    "        \n",
    "#lambda_eval(factorial)\n",
    "assert to_int(factorial_of_5()) == 120"
   ]
  },
  {
   "cell_type": "code",
   "execution_count": 15,
   "metadata": {
    "collapsed": false
   },
   "outputs": [
    {
     "name": "stdout",
     "output_type": "stream",
     "text": [
      "FunctionDef(args=arguments(args=[], \n",
      "                           defaults=[], \n",
      "                           kwarg=None, \n",
      "                           vararg=None), \n",
      "            body=[Expr(value=Call(args=[Str(s='sds')], \n",
      "                                  func=Lambda(args=arguments(args=[Name(ctx=Param(), \n",
      "                                                                        id='x')], \n",
      "                                                             defaults=[], \n",
      "                                                             kwarg=None, \n",
      "                                                             vararg=None), \n",
      "                                              body=Name(ctx=Load(), \n",
      "                                                        id='x')), \n",
      "                                  keywords=[], \n",
      "                                  kwargs=None, \n",
      "                                  starargs=None)), \n",
      "                  Return(value=Name(ctx=Load(), \n",
      "                                    id='None'))], \n",
      "            decorator_list=[], \n",
      "            name='main')\n"
     ]
    }
   ],
   "source": [
    "import meta\n",
    "\n",
    "def main():\n",
    "    (lambda x: x)(\"sds\")\n",
    "    \n",
    "ast = meta.decompiler.decompile_func(main)\n",
    "meta.asttools.print_ast(ast)\n"
   ]
  },
  {
   "cell_type": "code",
   "execution_count": 16,
   "metadata": {
    "collapsed": false
   },
   "outputs": [],
   "source": [
    "import collections\n",
    "import ast\n",
    "\n",
    "closure = collections.namedtuple(\"closure\", [\"function\", \"scope\"])\n",
    "\n",
    "def reduction(term, scope):\n",
    "    try:\n",
    "        closure = _eval(term.func, scope)\n",
    "        argument = _eval(term.args[0], scope)\n",
    "        \n",
    "        new_scope = dict(closure.scope)\n",
    "        new_scope[closure.function.args.args[0].id] = argument\n",
    "        return _eval(closure.function.body, new_scope)\n",
    "    except IndexError:\n",
    "        raise ValueError(\"functions must accept 1 argument\")\n",
    "    \n",
    "evaluators = {\n",
    "    # I look for names into the current scope\n",
    "    ast.Name: lambda term, scope: scope.get(term.id, term.id),\n",
    "    # A constant is itself\n",
    "    ast.Num: lambda term, _: term.n,\n",
    "    ast.Str: lambda term, _: term.s,\n",
    "    # A lambda expression is evaluated to a closure\n",
    "    ast.Lambda: lambda term, scope: closure(term, scope), # a closure\n",
    "    # An application is evaluated via substitution\n",
    "    ast.Call: reduction\n",
    "}\n",
    "\n",
    "def _eval(term, scope):\n",
    "    try:\n",
    "        return evaluators[type(term)](term, scope)\n",
    "    except KeyError:\n",
    "        raise ValueError(\"Unknown term %s\" % term)\n",
    "\n",
    "def lambda_eval(func):\n",
    "    \"\"\"\n",
    "    Evaluate a lambda term, enclosed in a function which does not take any argument,\n",
    "    like\n",
    "    def main():\n",
    "        lambda x: x\n",
    "    \n",
    "    Every lambda term can be:\n",
    "    - A Name node (a variable)\n",
    "    - Lambda node (lambda abstraction), containing a body (another term) and one argument (a Name)\n",
    "    - A Call node (an application)\n",
    "    \n",
    "    The evaluation is done via substitution.\n",
    "    \"\"\"\n",
    "    tree = meta.decompiler.decompile_func(func)\n",
    "    value = _eval(tree.body[0].value, {})\n",
    "    return value"
   ]
  },
  {
   "cell_type": "code",
   "execution_count": 17,
   "metadata": {
    "collapsed": false
   },
   "outputs": [],
   "source": [
    "def t():\n",
    "    pass\n",
    "assert lambda_eval(t) == \"None\"\n",
    "\n",
    "def t():\n",
    "    (lambda x: x)(\"string\")\n",
    "assert lambda_eval(t) == \"string\""
   ]
  },
  {
   "cell_type": "markdown",
   "metadata": {},
   "source": [
    "zero is zero"
   ]
  },
  {
   "cell_type": "code",
   "execution_count": 18,
   "metadata": {
    "collapsed": false
   },
   "outputs": [],
   "source": [
    "def zero_eq_zero():\n",
    "    # _EQ\n",
    "    (lambda leq: lambda m: lambda n: (lambda p: lambda q: p(q)(p))(leq(m)(n))(leq(n)(m)))(lambda m: lambda n: (lambda n: n(lambda x: (lambda x: lambda y: y))(lambda x: lambda y: x))\\\n",
    "    ((lambda m: lambda n: n(lambda n: lambda f: lambda x: n(lambda g: lambda h: h(g(f)))(lambda u: x)(lambda u: u))(m))(m)(n)))\\\n",
    "    (lambda f: lambda x: x)(lambda f: lambda x: x)(\"true\")(\"false\")\n",
    "    # ZERO                 # ZERO\n",
    "assert lambda_eval(zero_eq_zero) == \"true\""
   ]
  },
  {
   "cell_type": "code",
   "execution_count": 19,
   "metadata": {
    "collapsed": false
   },
   "outputs": [],
   "source": [
    "def zero_eq_one():\n",
    "    # _EQ\n",
    "    (lambda leq: lambda m: lambda n: (lambda p: lambda q: p(q)(p))(leq(m)(n))(leq(n)(m)))(lambda m: lambda n: (lambda n: n(lambda x: (lambda x: lambda y: y))(lambda x: lambda y: x))\\\n",
    "    ((lambda m: lambda n: n(lambda n: lambda f: lambda x: n(lambda g: lambda h: h(g(f)))(lambda u: x)(lambda u: u))(m))(m)(n)))\\\n",
    "    (lambda f: lambda x: x)(lambda f: lambda x: f(x))(\"true\")(\"false\")\n",
    "    # ZERO                  # ONE\n",
    "assert lambda_eval(zero_eq_one) == \"false\""
   ]
  },
  {
   "cell_type": "markdown",
   "metadata": {},
   "source": [
    "recursion with applicative order Y-combinator (call-by-value)"
   ]
  },
  {
   "cell_type": "code",
   "execution_count": null,
   "metadata": {
    "collapsed": true
   },
   "outputs": [],
   "source": []
  },
  {
   "cell_type": "code",
   "execution_count": null,
   "metadata": {
    "collapsed": true
   },
   "outputs": [],
   "source": []
  },
  {
   "cell_type": "code",
   "execution_count": null,
   "metadata": {
    "collapsed": true
   },
   "outputs": [],
   "source": []
  },
  {
   "cell_type": "code",
   "execution_count": null,
   "metadata": {
    "collapsed": true
   },
   "outputs": [],
   "source": []
  }
 ],
 "metadata": {
  "kernelspec": {
   "display_name": "Python 2",
   "language": "python",
   "name": "python2"
  },
  "language_info": {
   "codemirror_mode": {
    "name": "ipython",
    "version": 2
   },
   "file_extension": ".py",
   "mimetype": "text/x-python",
   "name": "python",
   "nbconvert_exporter": "python",
   "pygments_lexer": "ipython2",
   "version": "2.7.8"
  }
 },
 "nbformat": 4,
 "nbformat_minor": 0
}
