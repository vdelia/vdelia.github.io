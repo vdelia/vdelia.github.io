{
 "cells": [
  {
   "cell_type": "markdown",
   "metadata": {},
   "source": [
    "based on https://en.wikipedia.org/wiki/Lambda_calculus#Encoding_datatypes"
   ]
  },
  {
   "cell_type": "markdown",
   "metadata": {},
   "source": [
    "## Helpers"
   ]
  },
  {
   "cell_type": "code",
   "execution_count": 1,
   "metadata": {
    "collapsed": true
   },
   "outputs": [],
   "source": [
    "def _increment(x):\n",
    "    return x + 1\n",
    "\n",
    "def to_int(church_numeral):\n",
    "    return church_numeral(_increment)(0)\n",
    "\n",
    "def check_numeral(church_numeral, numeral):\n",
    "    assert to_int(church_numeral) == numeral\n",
    "\n",
    "import inspect\n",
    "\n",
    "def get_definition(f):\n",
    "    return inspect.getsource(f).split(\"=\")[1].strip()\n",
    "\n",
    "\n",
    "    "
   ]
  },
  {
   "cell_type": "markdown",
   "metadata": {},
   "source": [
    "## Arithmetics"
   ]
  },
  {
   "cell_type": "markdown",
   "metadata": {},
   "source": [
    "Numerals:\n",
    "\n",
    "*   0: λf.λx.x\n",
    "*   1: λf.λx.f x\n",
    "*   2: λf.λx.f (f x)\n",
    "*   3: λf.λx.f (f (f x))"
   ]
  },
  {
   "cell_type": "code",
   "execution_count": 2,
   "metadata": {
    "collapsed": false
   },
   "outputs": [],
   "source": [
    "_ZERO = lambda f: lambda x: x\n",
    "_ONE = lambda f: lambda x: f(x)\n",
    "_TWO = lambda f: lambda x: f(f(x))\n",
    "_THREE = lambda f: lambda x: f(f(f(x)))\n",
    "\n",
    "check_numeral(_ZERO, 0)\n",
    "check_numeral(_ONE, 1)\n",
    "check_numeral(_TWO, 2)\n",
    "check_numeral(_THREE, 3)"
   ]
  },
  {
   "cell_type": "markdown",
   "metadata": {},
   "source": [
    "SUCC := λn.λf.λx.f (n f x)"
   ]
  },
  {
   "cell_type": "code",
   "execution_count": 3,
   "metadata": {
    "collapsed": false
   },
   "outputs": [],
   "source": [
    "_SUCC = lambda n: lambda f: lambda x: f(n(f)(x))\n",
    "\n",
    "check_numeral(_SUCC(_ZERO), 1)\n",
    "check_numeral(_SUCC(_SUCC(_ZERO)), 2)\n",
    "check_numeral(_SUCC(_SUCC(_SUCC(_ZERO))), 3)"
   ]
  },
  {
   "cell_type": "markdown",
   "metadata": {},
   "source": [
    "PLUS := λm.λn.λf.λx.m f (n f x)"
   ]
  },
  {
   "cell_type": "code",
   "execution_count": 4,
   "metadata": {
    "collapsed": false
   },
   "outputs": [],
   "source": [
    "_PLUS = lambda m: lambda n: lambda f: lambda x: m(f)(n(f)(x))\n",
    "\n",
    "_FIVE = _SUCC(_SUCC(lambda f: lambda x: f(f(f(x)))))\n",
    "\n",
    "check_numeral(_PLUS(_THREE)(_ZERO), 3)\n",
    "check_numeral(_PLUS(_THREE)(_ONE), 4)\n",
    "check_numeral(_PLUS(_THREE)(_FIVE), 8)"
   ]
  },
  {
   "cell_type": "markdown",
   "metadata": {},
   "source": [
    "MULT := λm.λn.λf.m (n f)"
   ]
  },
  {
   "cell_type": "code",
   "execution_count": 5,
   "metadata": {
    "collapsed": true
   },
   "outputs": [],
   "source": [
    "_MULT = lambda m: lambda n: lambda f: m(n(f))\n",
    "\n",
    "check_numeral(_MULT(_THREE)(_ZERO), 0)\n",
    "check_numeral(_MULT(_THREE)(_ONE), 3)\n",
    "check_numeral(_MULT(_THREE)(_FIVE), 15)"
   ]
  },
  {
   "cell_type": "markdown",
   "metadata": {},
   "source": [
    "POW := λb.λe.e b"
   ]
  },
  {
   "cell_type": "code",
   "execution_count": 6,
   "metadata": {
    "collapsed": false
   },
   "outputs": [],
   "source": [
    "_POWER = lambda m: lambda n: n(m)\n",
    "\n",
    "check_numeral(_POWER(_THREE)(_ZERO), 1)\n",
    "check_numeral(_POWER(_THREE)(_ONE), 3)\n",
    "check_numeral(_POWER(_THREE)(_FIVE), 243)"
   ]
  },
  {
   "cell_type": "markdown",
   "metadata": {},
   "source": [
    "PRED := λn.λf.λx.n (λg.λh.h (g f)) (λu.x) (λu.u)"
   ]
  },
  {
   "cell_type": "code",
   "execution_count": 7,
   "metadata": {
    "collapsed": false
   },
   "outputs": [],
   "source": [
    "_PRED = lambda n: lambda f: lambda x: n(lambda g: lambda h: h(g(f)))(lambda u: x)(lambda u: u)\n",
    "\n",
    "check_numeral(_PRED(_ONE), 0)\n",
    "check_numeral(_PRED(_TWO), 1)\n",
    "check_numeral(_PRED(_THREE), 2)"
   ]
  },
  {
   "cell_type": "markdown",
   "metadata": {},
   "source": [
    "SUB := λm.λn.n PRED m"
   ]
  },
  {
   "cell_type": "code",
   "execution_count": 8,
   "metadata": {
    "collapsed": false
   },
   "outputs": [],
   "source": [
    "_SUB = lambda m: lambda n: n(lambda n: lambda f: lambda x: n(lambda g: lambda h: h(g(f)))(lambda u: x)(lambda u: u))(m)\n",
    "\n",
    "check_numeral(_SUB(_THREE)(_ZERO), 3)\n",
    "check_numeral(_SUB(_THREE)(_TWO), 1)\n",
    "check_numeral(_SUB(_FIVE)(_TWO), 3)"
   ]
  },
  {
   "cell_type": "markdown",
   "metadata": {},
   "source": [
    "## Logic and predicates\n",
    "\n",
    "### Booleans"
   ]
  },
  {
   "cell_type": "markdown",
   "metadata": {},
   "source": [
    "*   TRUE := λx.λy.x\n",
    "*   FALSE := λx.λy.y"
   ]
  },
  {
   "cell_type": "code",
   "execution_count": 9,
   "metadata": {
    "collapsed": true
   },
   "outputs": [],
   "source": [
    "_TRUE = lambda x: lambda y: x\n",
    "_FALSE = lambda x: lambda y: y"
   ]
  },
  {
   "cell_type": "markdown",
   "metadata": {},
   "source": [
    "### Operators\n",
    "\n",
    "*   AND := λp.λq.p q p\n",
    "*   OR := λp.λq.p p q\n",
    "*   NOT := λp.λa.λb.p b a\n",
    "*   IFTHENELSE := λp.λa.λb.p a b"
   ]
  },
  {
   "cell_type": "code",
   "execution_count": 10,
   "metadata": {
    "collapsed": false
   },
   "outputs": [],
   "source": [
    "_AND = lambda p: lambda q: p(q)(p)\n",
    "_OR = lambda p: lambda q: p(p)(q)\n",
    "_NOT = lambda p: lambda a: lambda b: p(b)(a)\n",
    "_IFTHENELSE = lambda p: lambda a: lambda b: p(a)(b)\n",
    "\n",
    "assert _AND(_TRUE)(_TRUE)(1)(0) == 1\n",
    "assert _AND(_FALSE)(_TRUE)(1)(0) == 0\n",
    "assert _OR(_FALSE)(_TRUE)(1)(0) == 1\n",
    "assert _NOT(_FALSE)(1)(0) == 1\n",
    "assert _NOT(_TRUE)(1)(0) == 0\n",
    "assert _IFTHENELSE(_TRUE)(42)(33) == 42\n",
    "assert _IFTHENELSE(_FALSE)(42)(33) == 33"
   ]
  },
  {
   "cell_type": "markdown",
   "metadata": {},
   "source": [
    "### Basic predicates\n",
    "\n",
    "ISZERO := λn.n (λx.FALSE) TRUE"
   ]
  },
  {
   "cell_type": "code",
   "execution_count": 11,
   "metadata": {
    "collapsed": true
   },
   "outputs": [],
   "source": [
    "_ISZERO = lambda n: n(lambda x: (lambda x: lambda y: y))(lambda x: lambda y: x)\n",
    "\n",
    "assert _ISZERO(_ZERO)(1)(0) == 1\n",
    "assert _ISZERO(_TWO)(1)(0) == 0"
   ]
  },
  {
   "cell_type": "markdown",
   "metadata": {},
   "source": [
    "LEQ := λm.λn.ISZERO (SUB m n)"
   ]
  },
  {
   "cell_type": "code",
   "execution_count": 12,
   "metadata": {
    "collapsed": false
   },
   "outputs": [],
   "source": [
    "_LEQ = lambda m: lambda n: (lambda n: n(lambda x: (lambda x: lambda y: y))(lambda x: lambda y: x))\\\n",
    "    ((lambda m: lambda n: n(lambda n: lambda f: lambda x: n(lambda g: lambda h: h(g(f)))(lambda u: x)(lambda u: u))(m))(m)(n))\n",
    "\n",
    "    \n",
    "assert _LEQ(_ZERO)(_ONE)(1)(0) == 1\n",
    "assert _LEQ(_ONE)(_THREE)(1)(0) == 1\n",
    "assert _LEQ(_THREE)(_ONE)(1)(0) == 0\n",
    "assert _LEQ(_ONE)(_ONE)(1)(0) == 1"
   ]
  },
  {
   "cell_type": "markdown",
   "metadata": {},
   "source": [
    "# Pairs\n",
    "\n",
    "*   PAIR := λx.λy.λf.f x y\n",
    "*   FIRST := λp.p TRUE\n",
    "*   SECOND := λp.p FALSE\n",
    "*   NIL := λx.TRUE\n",
    "*   NULL := λp.p (λx.λy.FALSE)"
   ]
  },
  {
   "cell_type": "code",
   "execution_count": 13,
   "metadata": {
    "collapsed": false
   },
   "outputs": [],
   "source": [
    "_PAIR = lambda x: lambda y: lambda f: f(x)(y)\n",
    "_FIRST = lambda p: p(lambda x: lambda y: x)\n",
    "_SECOND = lambda p: p(lambda x: lambda y: y)\n",
    "_NIL = lambda x: lambda x: lambda y: x\n",
    "_NULL = lambda p: p(lambda x: lambda y: (lambda x: lambda y: y))\n",
    "\n",
    "check_numeral(_FIRST(_PAIR(_ONE)(_TWO)), 1)\n",
    "check_numeral(_SECOND(_PAIR(_ONE)(_TWO)), 2)"
   ]
  },
  {
   "cell_type": "code",
   "execution_count": 14,
   "metadata": {
    "collapsed": false
   },
   "outputs": [
    {
     "data": {
      "text/plain": [
       "u'lambda p: p(lambda x: lambda y: (lambda x: lambda y: y))'"
      ]
     },
     "execution_count": 14,
     "metadata": {},
     "output_type": "execute_result"
    }
   ],
   "source": [
    "get_definition(_NULL)"
   ]
  },
  {
   "cell_type": "code",
   "execution_count": 22,
   "metadata": {
    "collapsed": false
   },
   "outputs": [
    {
     "name": "stdout",
     "output_type": "stream",
     "text": [
      "Lambda(args=arguments(args=[Name(ctx=Param(), \n",
      "                                 id='p')], \n",
      "                      defaults=[], \n",
      "                      kwarg=None, \n",
      "                      vararg=None), \n",
      "       body=Call(args=[Lambda(args=arguments(args=[Name(ctx=Param(), \n",
      "                                                        id='x')], \n",
      "                                             defaults=[], \n",
      "                                             kwarg=None, \n",
      "                                             vararg=None), \n",
      "                              body=Lambda(args=arguments(args=[Name(ctx=Param(), \n",
      "                                                                    id='y')], \n",
      "                                                         defaults=[], \n",
      "                                                         kwarg=None, \n",
      "                                                         vararg=None), \n",
      "                                          body=Lambda(args=arguments(args=[Name(ctx=Param(), \n",
      "                                                                                id='x')], \n",
      "                                                                     defaults=[], \n",
      "                                                                     kwarg=None, \n",
      "                                                                     vararg=None), \n",
      "                                                      body=Lambda(args=arguments(args=[Name(ctx=Param(), \n",
      "                                                                                            id='y')], \n",
      "                                                                                 defaults=[], \n",
      "                                                                                 kwarg=None, \n",
      "                                                                                 vararg=None), \n",
      "                                                                  body=Name(ctx=Load(), \n",
      "                                                                            id='y')))))], \n",
      "                 func=Name(ctx=Load(), \n",
      "                           id='p'), \n",
      "                 keywords=[], \n",
      "                 kwargs=None, \n",
      "                 starargs=None))\n"
     ]
    }
   ],
   "source": [
    "import meta\n",
    "\n",
    "ast = meta.decompiler.decompile_func(_NULL)\n",
    "meta.asttools.print_ast(ast)"
   ]
  },
  {
   "cell_type": "code",
   "execution_count": null,
   "metadata": {
    "collapsed": true
   },
   "outputs": [],
   "source": []
  }
 ],
 "metadata": {
  "kernelspec": {
   "display_name": "Python 2",
   "language": "python",
   "name": "python2"
  },
  "language_info": {
   "codemirror_mode": {
    "name": "ipython",
    "version": 2
   },
   "file_extension": ".py",
   "mimetype": "text/x-python",
   "name": "python",
   "nbconvert_exporter": "python",
   "pygments_lexer": "ipython2",
   "version": "2.7.8"
  }
 },
 "nbformat": 4,
 "nbformat_minor": 0
}
