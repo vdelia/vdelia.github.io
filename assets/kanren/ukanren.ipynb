{
 "cells": [
  {
   "cell_type": "markdown",
   "metadata": {},
   "source": [
    "Intro to minikanren\n",
    "\n",
    "TOC:\n",
    "*   implement microkanren\n",
    "*   write minikanren api through macros"
   ]
  },
  {
   "cell_type": "code",
   "execution_count": 1,
   "metadata": {
    "collapsed": true
   },
   "outputs": [],
   "source": [
    "import itertools as it"
   ]
  },
  {
   "cell_type": "markdown",
   "metadata": {},
   "source": [
    "A $\\mu$Kanren program proceeds through the application of a **goal** to a **state**. Goals are often understood by analogy to predicates. Whereas the application of a predicate to an element of its domain can be either true or false, a goal pursued in a given state can either succeed or fail.\n",
    "\n",
    "A **state** is a pair of a substitution (represented as a dictionary) and a non-negative integer representing a fresh- variable counter.\n",
    "\n",
    "LogicVariables are ints, until I want to distinguish them from ints. In that case, I check is_logic_var"
   ]
  },
  {
   "cell_type": "code",
   "execution_count": 2,
   "metadata": {
    "collapsed": false
   },
   "outputs": [],
   "source": [
    "empty_state = ({}, 0)\n",
    "\n",
    "def is_logic_var(x):\n",
    "    return isinstance(x, LogicVariable)\n",
    "\n",
    "class LogicVariable(object):\n",
    "    \"\"\"\n",
    "    An alias to an int\n",
    "    \"\"\"\n",
    "    def __init__(self, i):\n",
    "        self.i = i\n",
    "        \n",
    "    def __cmp__(self, i):\n",
    "        return cmp(self.i, rhs.i)\n",
    "    \n",
    "    def __eq__(self, rhs):\n",
    "        return is_logic_var(rhs) and self.i == rhs.i\n",
    "    \n",
    "    def __hash__(self):\n",
    "        return hash(self.i)\n",
    "\n",
    "    def __repr__(self):\n",
    "        return \"LV(%d)\" % self.i\n",
    "    \n"
   ]
  },
  {
   "cell_type": "markdown",
   "metadata": {},
   "source": [
    "The **walk** operator searches for a variable's value in the substitution; the *ext_s* operator extends the substitution with a new binding. When a non-variable term is walked, the term itself is returned. When extending the substitution, the 􏰀first argument is always a variable, and the second is an arbitrary term."
   ]
  },
  {
   "cell_type": "code",
   "execution_count": 3,
   "metadata": {
    "collapsed": false
   },
   "outputs": [],
   "source": [
    "def walk(var, substitutions):\n",
    "    while is_logic_var(var) and var in substitutions:\n",
    "        var = substitutions[var]\n",
    "    return var\n",
    "\n",
    "def ext_s(var, value, substitutions):\n",
    "    s = dict(substitutions)\n",
    "    s[var] = value\n",
    "    return s"
   ]
  },
  {
   "cell_type": "code",
   "execution_count": 5,
   "metadata": {
    "collapsed": false
   },
   "outputs": [],
   "source": [
    "LV = LogicVariable\n",
    "assert walk(LV(0), {}) == LV(0)\n",
    "assert walk(LV(0), {LV(0): 1}) == 1\n",
    "assert walk(LV(0), {LV(0): LV(1), LV(1): \"something else\"}) == \"something else\""
   ]
  },
  {
   "cell_type": "markdown",
   "metadata": {},
   "source": [
    "Explain unify"
   ]
  },
  {
   "cell_type": "code",
   "execution_count": 80,
   "metadata": {
    "collapsed": false
   },
   "outputs": [],
   "source": [
    "import collections\n",
    "\n",
    "def is_sequence(o):\n",
    "    \"\"\"\n",
    "    I want it to fail on strings\n",
    "    \"\"\"\n",
    "    return hasattr(o, '__iter__')\n",
    "\n",
    "def unify_sequences(xs, ys, substitutions):\n",
    "    if len(xs) != len(ys):\n",
    "        return None\n",
    "    for a, b in it.izip(xs, ys):\n",
    "        substitutions = unify(a, b, substitutions) \n",
    "    return substitutions\n",
    "\n",
    "def unify(x, y, substitutions):\n",
    "    if substitutions is None:\n",
    "        return None\n",
    "\n",
    "    x = walk(x, substitutions)\n",
    "    y = walk(y, substitutions)\n",
    "\n",
    "    if x == y:\n",
    "        return substitutions\n",
    "    elif is_logic_var(x):\n",
    "        return ext_s(x, y, substitutions)\n",
    "    elif is_logic_var(y):\n",
    "        return ext_s(y, x, substitutions)\n",
    "    elif is_sequence(x) and is_sequence(y):\n",
    "        return unify_sequences(x, y, substitutions)\n",
    "    return None"
   ]
  },
  {
   "cell_type": "code",
   "execution_count": 81,
   "metadata": {
    "collapsed": false
   },
   "outputs": [],
   "source": [
    "assert unify(LV(0), LV(1), {}) == {LV(0) : LV(1)} #  0 is 1\n",
    "assert unify(LV(0), LV(1), {LV(0): \"x\", LV(1): \"y\"}) is None  #  they do not unify\n",
    "assert unify(LV(0), 5, {}) == {LV(0): 5}\n",
    "assert unify((LV(0), 1, LV(1)), (1, 2, 3), {}) is None # the second elements differ\n",
    "assert unify((LV(0), 1, LV(1)), (1, 1, 3), {}) == {LV(0): 1, LV(1): 3} # assign the first and the last one"
   ]
  },
  {
   "cell_type": "markdown",
   "metadata": {},
   "source": [
    "## Goals builder\n",
    "\n",
    "\n",
    "1.   `equiv` builds a goal which succeeds if its two arguments unify, i.e. it yields the substitutions which make its arguments unify"
   ]
  },
  {
   "cell_type": "code",
   "execution_count": 82,
   "metadata": {
    "collapsed": false
   },
   "outputs": [],
   "source": [
    "def equiv(x, y):\n",
    "    def _goal(state):\n",
    "        substitutions, counter = state\n",
    "        unified = unify(x, y, substitutions)\n",
    "        if unified is not None:\n",
    "            yield (unified, counter)\n",
    "    return _goal"
   ]
  },
  {
   "cell_type": "code",
   "execution_count": 83,
   "metadata": {
    "collapsed": false
   },
   "outputs": [],
   "source": [
    "assert list(equiv(LV(0), 5)(empty_state)) == [({LV(0): 5}, 0)]\n",
    "assert list(equiv(LV(0), LV(1))(empty_state)) == [({LV(0): LV(1)}, 0)]"
   ]
  },
  {
   "cell_type": "markdown",
   "metadata": {},
   "source": [
    "The call/fresh goal constructor takes a unary function f whose body is a goal, and itself returns a goal. This returned goal, when provided a state s/c, binds the formal parameter of f to a new logic variable (built with the variable construc- tor operator var), and passes a state, with the substitution it originally received and a newly incremented fresh-variable counter, c, to the goal that is the body of f."
   ]
  },
  {
   "cell_type": "code",
   "execution_count": 84,
   "metadata": {
    "collapsed": false
   },
   "outputs": [],
   "source": [
    "def call_fresh(goal):\n",
    "    def _new_goal(state):\n",
    "        substitutions, counter = state\n",
    "        return goal(LogicVariable(counter))((substitutions, counter+1))\n",
    "    return _new_goal\n"
   ]
  },
  {
   "cell_type": "code",
   "execution_count": 85,
   "metadata": {
    "collapsed": true
   },
   "outputs": [],
   "source": [
    "from functools import partial as p\n",
    "\n",
    "is_five = p(equiv, 5)\n",
    "assert list(call_fresh(is_five)(empty_state)) == [({LV(0): 5}, 1)]"
   ]
  },
  {
   "cell_type": "code",
   "execution_count": 123,
   "metadata": {
    "collapsed": true
   },
   "outputs": [],
   "source": [
    "def disj(*goals):\n",
    "    \"\"\"\n",
    "    it returns a goal which succeeds if either of the arguments succeeds\n",
    "    \"\"\"\n",
    "    def _new_goal(state):\n",
    "        return it.chain.from_iterable(g(state) for g in goals)\n",
    "    return _new_goal\n",
    "\n",
    "def make_stream(goal, s):\n",
    "    return it.chain.from_iterable(it.imap(goal, s))\n",
    "\n",
    "def conj(*goals):\n",
    "    \"\"\"\n",
    "    It returns a goal which succeeds if all the goals passed as argument succeed\n",
    "    for that state.\n",
    "    \"\"\"\n",
    "    def _new_goal(state):\n",
    "        stream = goals[0](state)\n",
    "        for g in goals[1:]:\n",
    "            stream = make_stream(g, stream)\n",
    "        return stream\n",
    "    return _new_goal\n",
    "\n",
    "ANY = disj\n",
    "ALL = conj"
   ]
  },
  {
   "cell_type": "markdown",
   "metadata": {},
   "source": [
    "Minikanren utility\n",
    "\n",
    "fresh"
   ]
  },
  {
   "cell_type": "code",
   "execution_count": 124,
   "metadata": {
    "collapsed": false
   },
   "outputs": [
    {
     "data": {
      "text/plain": [
       "[({LV(0): LV(1)}, 2)]"
      ]
     },
     "execution_count": 124,
     "metadata": {},
     "output_type": "execute_result"
    }
   ],
   "source": [
    "def f(x):\n",
    "    def _g(y):\n",
    "        return equiv(x, y)\n",
    "    return call_fresh(_g)\n",
    "\n",
    "list(call_fresh(f)(empty_state))"
   ]
  },
  {
   "cell_type": "code",
   "execution_count": 88,
   "metadata": {
    "collapsed": false
   },
   "outputs": [
    {
     "data": {
      "text/plain": [
       "[({LV(0): 2}, 2), ({LV(1): 3}, 2), ({LV(0): LV(1)}, 2)]"
      ]
     },
     "execution_count": 88,
     "metadata": {},
     "output_type": "execute_result"
    }
   ],
   "source": [
    "def g(x, y):\n",
    "    return ANY(equiv(x, 2), equiv(y, 3), equiv(x, y))\n",
    "\n",
    "list(call_fresh(lambda x: call_fresh(lambda y: g(x, y)))(empty_state))"
   ]
  },
  {
   "cell_type": "code",
   "execution_count": 89,
   "metadata": {
    "collapsed": false
   },
   "outputs": [
    {
     "name": "stdout",
     "output_type": "stream",
     "text": [
      "[({LV(0): LV(1)}, 2)]\n",
      "[({LV(0): 2}, 2), ({LV(1): 3}, 2), ({LV(0): LV(1)}, 2)]\n"
     ]
    }
   ],
   "source": [
    "import inspect\n",
    "\n",
    "def fresh_helper(curried_goal, nargs):\n",
    "    if nargs <= 1:\n",
    "        return call_fresh(curried_goal)\n",
    "    else:\n",
    "        return call_fresh(lambda x: fresh_helper(p(curried_goal, x), nargs-1))\n",
    "    \n",
    "def fresh(variadic_goal):\n",
    "    positional_args = inspect.getargspec(variadic_goal).args\n",
    "    return fresh_helper(variadic_goal, len(positional_args))\n",
    "    \n",
    "    \n",
    "            \n",
    "print list(fresh(f)(empty_state))\n",
    "print list(fresh(g)(empty_state))"
   ]
  },
  {
   "cell_type": "code",
   "execution_count": 90,
   "metadata": {
    "collapsed": false
   },
   "outputs": [
    {
     "data": {
      "text/plain": [
       "[{LV(0): 2}, {LV(1): 3}, {LV(0): LV(1)}]"
      ]
     },
     "execution_count": 90,
     "metadata": {},
     "output_type": "execute_result"
    }
   ],
   "source": [
    "def run(goals):\n",
    "    for s, c in fresh(goals)(empty_state):\n",
    "        yield s\n",
    "        \n",
    "list(run(g))"
   ]
  },
  {
   "cell_type": "code",
   "execution_count": 91,
   "metadata": {
    "collapsed": false
   },
   "outputs": [
    {
     "data": {
      "text/plain": [
       "[{'x': 2, 'y': '#_1'}, {'x': '#_0', 'y': 3}, {'x': '#_1', 'y': '#_1'}]"
      ]
     },
     "execution_count": 91,
     "metadata": {},
     "output_type": "execute_result"
    }
   ],
   "source": [
    "def reify_sequence(names, subs, objects):\n",
    "    return [reify_s(names, subs, o) for o in objects]\n",
    "\n",
    "def reify_s(names, subs, o):\n",
    "    o = walk(o, subs)\n",
    "    if is_logic_var(o):\n",
    "        return \"#_%s\" % names.get(o, o).i\n",
    "    elif is_sequence(o):\n",
    "        return reify_sequence(names, subs, o)\n",
    "    else:\n",
    "        return o\n",
    "    \n",
    "def reify(substitutions, names):\n",
    "    r = lambda var: reify_s(names, substitutions, LogicVariable(var))\n",
    "    reified = {k: r(v) for k,v in names.iteritems()}\n",
    "    return reified\n",
    "\n",
    "def run(goal, stop=None):\n",
    "    args = inspect.getargspec(goal).args\n",
    "    names = {name: n for (n, name) in enumerate(args)}\n",
    "    substitutions = fresh(goal)(empty_state)\n",
    "    for s, c in it.islice(substitutions, stop):\n",
    "        yield reify(s, names)\n",
    "\n",
    "list(run(g))"
   ]
  },
  {
   "cell_type": "markdown",
   "metadata": {},
   "source": [
    "Examples\n",
    "Querying Game of Thrones"
   ]
  },
  {
   "cell_type": "code",
   "execution_count": 92,
   "metadata": {
    "collapsed": false
   },
   "outputs": [],
   "source": [
    "got_characters = {0: ('catelyn', 'tully'),\n",
    "                  1: ('eddard', 'stark'),\n",
    "                  2: ('sansa', 'stark'),\n",
    "                  3: ('benjen', 'stark'),\n",
    "                  4: ('robb', 'stark'),\n",
    "                  5: ('joffrey', 'baratheon'),\n",
    "                  6: ('stannis', 'baratheon'),\n",
    "                  7: ('cersei', 'lannister'),\n",
    "                  8: ('tyrion', 'lannister'),\n",
    "                  9: ('tommen', 'baratheon'),\n",
    "                  10: ('jon', 'snow'),\n",
    "                  11: ('myrcella', 'baratheon'),\n",
    "                  12: ('tywin', 'lannister'),\n",
    "                  13: ('jaime', 'lannister'),\n",
    "                  14: ('rickon', 'stark'),\n",
    "                  15: ('arya', 'stark'),\n",
    "                  16: ('brandon', 'stark'),\n",
    "                  17: ('renly', 'baratheon'),\n",
    "                  18: ('robert', 'baratheon')}"
   ]
  },
  {
   "cell_type": "code",
   "execution_count": 93,
   "metadata": {
    "collapsed": true
   },
   "outputs": [],
   "source": [
    "def charactero(characterid, name, surname):\n",
    "    return ANY(\n",
    "        *[ALL(equiv(characterid, k), equiv(name, n), equiv(surname, s))\n",
    "          for (k, (n, s)) in got_characters.iteritems()]\n",
    "    )"
   ]
  },
  {
   "cell_type": "code",
   "execution_count": 94,
   "metadata": {
    "collapsed": false
   },
   "outputs": [
    {
     "data": {
      "text/plain": [
       "[{'x': 'eddard', 'y': 'stark'}]"
      ]
     },
     "execution_count": 94,
     "metadata": {},
     "output_type": "execute_result"
    }
   ],
   "source": [
    "list(run(\n",
    "        lambda x, y: charactero(1, x, y)\n",
    "    ))"
   ]
  },
  {
   "cell_type": "code",
   "execution_count": 95,
   "metadata": {
    "collapsed": false
   },
   "outputs": [
    {
     "data": {
      "text/plain": [
       "[{'x': 5, 'y': 'joffrey'},\n",
       " {'x': 6, 'y': 'stannis'},\n",
       " {'x': 9, 'y': 'tommen'},\n",
       " {'x': 11, 'y': 'myrcella'},\n",
       " {'x': 17, 'y': 'renly'},\n",
       " {'x': 18, 'y': 'robert'}]"
      ]
     },
     "execution_count": 95,
     "metadata": {},
     "output_type": "execute_result"
    }
   ],
   "source": [
    "list(run(\n",
    "        lambda x, y: charactero(x, y, 'baratheon')\n",
    "    ))"
   ]
  },
  {
   "cell_type": "code",
   "execution_count": 96,
   "metadata": {
    "collapsed": true
   },
   "outputs": [],
   "source": [
    "got_houses = {'stark': [0, 1, 2, 3, 4, 10,  15, 16],\n",
    "              'tully': [0],\n",
    "              'lannister': [5, 7, 8, 9, 11, 12, 13],\n",
    "              'baratheon': [5, 7, 9, 11, 6, 18]}\n",
    "\n",
    "def _houseo(house_name, characterid):\n",
    "    g = ANY(\n",
    "        *[ALL(equiv(house_name, k), equiv(characterid, v))\n",
    "          for (k, vs) in got_houses.iteritems() for v in vs ])\n",
    "    return g"
   ]
  },
  {
   "cell_type": "code",
   "execution_count": 97,
   "metadata": {
    "collapsed": false
   },
   "outputs": [
    {
     "data": {
      "text/plain": [
       "[{'i': 5}, {'i': 7}, {'i': 9}, {'i': 11}, {'i': 6}, {'i': 18}]"
      ]
     },
     "execution_count": 97,
     "metadata": {},
     "output_type": "execute_result"
    }
   ],
   "source": [
    "list(run(\n",
    "        lambda i: _houseo('baratheon', i)\n",
    "    ))"
   ]
  },
  {
   "cell_type": "code",
   "execution_count": 98,
   "metadata": {
    "collapsed": true
   },
   "outputs": [],
   "source": [
    "def houseo(family_name, name, surname):\n",
    "    def _f(characterid):\n",
    "        return ALL(\n",
    "            _houseo(family_name, characterid),\n",
    "            charactero(characterid, name, surname)\n",
    "        )\n",
    "    return fresh(_f)"
   ]
  },
  {
   "cell_type": "code",
   "execution_count": 125,
   "metadata": {
    "collapsed": false
   },
   "outputs": [
    {
     "data": {
      "text/plain": [
       "[{'house': 'baratheon', 'surname': 'baratheon'},\n",
       " {'house': 'lannister', 'surname': 'baratheon'}]"
      ]
     },
     "execution_count": 125,
     "metadata": {},
     "output_type": "execute_result"
    }
   ],
   "source": [
    "list(run(\n",
    "        lambda house, surname: houseo(house, 'joffrey', surname)\n",
    "    ))"
   ]
  },
  {
   "cell_type": "code",
   "execution_count": 126,
   "metadata": {
    "collapsed": false
   },
   "outputs": [
    {
     "data": {
      "text/plain": [
       "[{'house': 'stark', 'name': 'jon'}]"
      ]
     },
     "execution_count": 126,
     "metadata": {},
     "output_type": "execute_result"
    }
   ],
   "source": [
    "list(run(\n",
    "        lambda house, name: houseo(house, name, house)\n",
    "    ))\n",
    "\n",
    "# no jon snow"
   ]
  },
  {
   "cell_type": "code",
   "execution_count": 101,
   "metadata": {
    "collapsed": false
   },
   "outputs": [
    {
     "data": {
      "text/plain": [
       "[{'family': 'lannister', 'house': 'baratheon', 'name': 'cersei'},\n",
       " {'family': 'baratheon', 'house': 'lannister', 'name': 'joffrey'},\n",
       " {'family': 'baratheon', 'house': 'lannister', 'name': 'tommen'},\n",
       " {'family': 'baratheon', 'house': 'lannister', 'name': 'myrcella'},\n",
       " {'family': 'tully', 'house': 'stark', 'name': 'catelyn'},\n",
       " {'family': 'snow', 'house': 'stark', 'name': 'jon'}]"
      ]
     },
     "execution_count": 101,
     "metadata": {},
     "output_type": "execute_result"
    }
   ],
   "source": [
    "def not_equiv(x, y):\n",
    "    \"\"\"\n",
    "    It succeeds when you it cannot unify x and y\n",
    "    \"\"\"\n",
    "    def _goal(state):\n",
    "        substitutions, counter = state\n",
    "        unified = unify(x, y, substitutions)\n",
    "        if unified is None:\n",
    "            yield (substitutions, counter)\n",
    "    return _goal\n",
    "    \n",
    "list(run(\n",
    "        lambda house, name, family: ALL(\n",
    "            houseo(house, name, family),\n",
    "            not_equiv(house, family))\n",
    "    ))"
   ]
  },
  {
   "cell_type": "markdown",
   "metadata": {},
   "source": [
    "Data structures\n",
    "\n",
    "cons"
   ]
  },
  {
   "cell_type": "code",
   "execution_count": 102,
   "metadata": {
    "collapsed": true
   },
   "outputs": [],
   "source": [
    "def emptyo(d):\n",
    "    return equiv(d, ())\n",
    "\n",
    "def conso(a, b, cons):\n",
    "    return equiv((a, b), cons)\n",
    "\n",
    "def firsto(cons, elt):\n",
    "    return fresh(lambda t: conso(elt, t, cons))\n",
    "\n",
    "def tailo(cons, tail):\n",
    "    return fresh(lambda first: conso(first, tail, cons))"
   ]
  },
  {
   "cell_type": "code",
   "execution_count": 103,
   "metadata": {
    "collapsed": false
   },
   "outputs": [
    {
     "data": {
      "text/plain": [
       "[{'x': [1, '#_1']}]"
      ]
     },
     "execution_count": 103,
     "metadata": {},
     "output_type": "execute_result"
    }
   ],
   "source": [
    "list(run(\n",
    "        lambda x: firsto(x, 1)))"
   ]
  },
  {
   "cell_type": "code",
   "execution_count": 104,
   "metadata": {
    "collapsed": false
   },
   "outputs": [
    {
     "data": {
      "text/plain": [
       "[{'f': 0,\n",
       "  'other': [0, '#_5'],\n",
       "  't': [1, [2, [3, [4, [5, [6, [7, [8, [9, []]]]]]]]]]}]"
      ]
     },
     "execution_count": 104,
     "metadata": {},
     "output_type": "execute_result"
    }
   ],
   "source": [
    "def consify(lst):\n",
    "    cons = ()\n",
    "    for i in reversed(lst):\n",
    "        cons = (i, cons)\n",
    "    return cons\n",
    "        \n",
    "ten = consify(range(10))\n",
    "list(run(\n",
    "        lambda f, t, other: ALL(\n",
    "            firsto(ten, f),\n",
    "            tailo(ten, t),\n",
    "            firsto(other, f))\n",
    "    ))"
   ]
  },
  {
   "cell_type": "markdown",
   "metadata": {},
   "source": [
    "Intermezzo: More minikanren"
   ]
  },
  {
   "cell_type": "code",
   "execution_count": 105,
   "metadata": {
    "collapsed": true
   },
   "outputs": [],
   "source": [
    "def conde(*disjs):\n",
    "    \"\"\"\n",
    "    Syntactic sugar around the ANY - ALL template\n",
    "    \n",
    "    conde is also a form of if-then-else construct\n",
    "    conde(\n",
    "        [if-clause1 then],\n",
    "        [if-clause2 then],\n",
    "    )\n",
    "    \"\"\"\n",
    "    return ANY(\n",
    "        *[ALL(*conjs) for conjs in disjs]\n",
    "    )"
   ]
  },
  {
   "cell_type": "code",
   "execution_count": 106,
   "metadata": {
    "collapsed": true
   },
   "outputs": [],
   "source": [
    "def membero(lst, elt):\n",
    "    def _f(tail):\n",
    "        return conde(\n",
    "            [firsto(lst, elt)],\n",
    "            [tailo(lst, tail), membero(tail, elt)])\n",
    "    return fresh(_f)"
   ]
  },
  {
   "cell_type": "code",
   "execution_count": 107,
   "metadata": {
    "collapsed": false
   },
   "outputs": [
    {
     "data": {
      "text/plain": [
       "[]"
      ]
     },
     "execution_count": 107,
     "metadata": {},
     "output_type": "execute_result"
    }
   ],
   "source": [
    "list(run(\n",
    "        lambda x: membero(consify(range(12)), 30)\n",
    "        ))"
   ]
  },
  {
   "cell_type": "code",
   "execution_count": 108,
   "metadata": {
    "collapsed": false
   },
   "outputs": [
    {
     "data": {
      "text/plain": [
       "[{'x': '#_0'}]"
      ]
     },
     "execution_count": 108,
     "metadata": {},
     "output_type": "execute_result"
    }
   ],
   "source": [
    "list(run(\n",
    "        lambda x: membero(consify(range(12)), 11)\n",
    "        ))"
   ]
  },
  {
   "cell_type": "code",
   "execution_count": 109,
   "metadata": {
    "collapsed": false
   },
   "outputs": [
    {
     "data": {
      "text/plain": [
       "[]"
      ]
     },
     "execution_count": 109,
     "metadata": {},
     "output_type": "execute_result"
    }
   ],
   "source": [
    "list(run(\n",
    "        lambda x: membero(consify(range(0)), x),\n",
    "        stop=50))"
   ]
  },
  {
   "cell_type": "code",
   "execution_count": 110,
   "metadata": {
    "collapsed": false
   },
   "outputs": [
    {
     "data": {
      "text/plain": [
       "[{'x': [10, '#_2']},\n",
       " {'x': ['#_2', [10, '#_4']]},\n",
       " {'x': ['#_2', ['#_4', [10, '#_6']]]},\n",
       " {'x': ['#_2', ['#_4', ['#_6', [10, '#_8']]]]},\n",
       " {'x': ['#_2', ['#_4', ['#_6', ['#_8', [10, '#_10']]]]]}]"
      ]
     },
     "execution_count": 110,
     "metadata": {},
     "output_type": "execute_result"
    }
   ],
   "source": [
    "list(run(\n",
    "        lambda x: membero(x, 10),\n",
    "        stop=5))"
   ]
  },
  {
   "cell_type": "markdown",
   "metadata": {},
   "source": []
  },
  {
   "cell_type": "code",
   "execution_count": 111,
   "metadata": {
    "collapsed": false
   },
   "outputs": [
    {
     "data": {
      "text/plain": [
       "[{'x': [1, [2, [3, [4, []]]]]}]"
      ]
     },
     "execution_count": 111,
     "metadata": {},
     "output_type": "execute_result"
    }
   ],
   "source": [
    "def appendo(x, y, res):\n",
    "    \"\"\"\n",
    "    concatenate x and y\n",
    "    \"\"\"\n",
    "    def _f(a, b, c):\n",
    "        return conde(\n",
    "            # if x is empty, then res is y\n",
    "            [emptyo(x), equiv(y, res)],\n",
    "            # otherwise is something like cons(a, b), thus res will be cons(a, c),\n",
    "            # which means that c is what you get when concatenating b and y\n",
    "            [conso(a, b, x), conso(a, c, res), appendo(b, y, c) ]) \n",
    "    return fresh(_f)\n",
    "\n",
    "list(run(\n",
    "        lambda x: appendo(consify([1, 2]), consify([3,4]), x),\n",
    "        ))"
   ]
  },
  {
   "cell_type": "code",
   "execution_count": 122,
   "metadata": {
    "collapsed": false
   },
   "outputs": [
    {
     "data": {
      "text/plain": [
       "[{'x': [], 'y': [1, [2, []]]},\n",
       " {'x': ['#_2', []], 'y': ['#_2', [1, [2, []]]]},\n",
       " {'x': ['#_2', ['#_5', []]], 'y': ['#_2', ['#_5', [1, [2, []]]]]}]"
      ]
     },
     "execution_count": 122,
     "metadata": {},
     "output_type": "execute_result"
    }
   ],
   "source": [
    "list(run(\n",
    "        lambda x, y: appendo(x, consify([1, 2]), y),\n",
    "        stop=3))"
   ]
  },
  {
   "cell_type": "code",
   "execution_count": 116,
   "metadata": {
    "collapsed": false
   },
   "outputs": [
    {
     "data": {
      "text/plain": [
       "[{'x': [], 'y': [0, [1, [2, [3, [4, [5, [6, [7, [8, [9, []]]]]]]]]]]},\n",
       " {'x': [0, []], 'y': [1, [2, [3, [4, [5, [6, [7, [8, [9, []]]]]]]]]]},\n",
       " {'x': [0, [1, []]], 'y': [2, [3, [4, [5, [6, [7, [8, [9, []]]]]]]]]},\n",
       " {'x': [0, [1, [2, []]]], 'y': [3, [4, [5, [6, [7, [8, [9, []]]]]]]]},\n",
       " {'x': [0, [1, [2, [3, []]]]], 'y': [4, [5, [6, [7, [8, [9, []]]]]]]}]"
      ]
     },
     "execution_count": 116,
     "metadata": {},
     "output_type": "execute_result"
    }
   ],
   "source": [
    "list(run(\n",
    "        lambda x, y: appendo(x, y, consify(range(10))),\n",
    "        stop=5))"
   ]
  },
  {
   "cell_type": "code",
   "execution_count": null,
   "metadata": {
    "collapsed": true
   },
   "outputs": [],
   "source": []
  },
  {
   "cell_type": "code",
   "execution_count": null,
   "metadata": {
    "collapsed": true
   },
   "outputs": [],
   "source": []
  }
 ],
 "metadata": {
  "kernelspec": {
   "display_name": "Python 2",
   "language": "python",
   "name": "python2"
  },
  "language_info": {
   "codemirror_mode": {
    "name": "ipython",
    "version": 2
   },
   "file_extension": ".py",
   "mimetype": "text/x-python",
   "name": "python",
   "nbconvert_exporter": "python",
   "pygments_lexer": "ipython2",
   "version": "2.7.8"
  }
 },
 "nbformat": 4,
 "nbformat_minor": 0
}
