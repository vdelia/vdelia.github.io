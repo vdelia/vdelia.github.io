{
 "cells": [
  {
   "cell_type": "markdown",
   "metadata": {},
   "source": [
    "# A python implementation of $\\mu$Kanren\n",
    "\n",
    "$\\mu$Kanren (microKanren)\n",
    "is a minimalistic, yet complete, relational programming language, introduced as a stripped-down implementation of **miniKanren** (link al sito). \n",
    "\n",
    "What is a  *relational programming language*? In other programming paradigms, a program is a set of operations (functions, statements, etc.) which consume *inputs* to produce *outputs*. \n",
    "Instead, a relational program is a set of predicates on (logic) variables, without a distinction between inputs and outputs. Running a program means searching the values that can be assigned to logic variables so that those predicates hold. It does not return a value, but it enumerates solutions.\n",
    "\n",
    "To me relational programming is a way to extract a usable and pure logical subset of prolog, and bring it to the masses.\n",
    "\n",
    "Other people see it as DSLs for brute-force search.\n",
    "\n",
    "The thing is that ??? this presentation is mind-blowing."
   ]
  },
  {
   "cell_type": "markdown",
   "metadata": {},
   "source": [
    "Where does it come from? In [reasoned_schemer], the authors introduced relational programming as a natural extension of functional programming. And so, guess what? the reference implementation of minikanren is in Scheme, which in turn does mean that the reference implementation of $\\mu$Kanren  is in scheme.\n",
    "\n",
    "Currently there are many implementation of the minikanren in many different languages; among them, the most succesful is probably [core.logic]."
   ]
  },
  {
   "cell_type": "markdown",
   "metadata": {},
   "source": [
    "This post is a ipython notebook where I implement $\\mu$Kanren and some syntactic sugar in python. You can download the original notebook here.\n",
    "\n",
    "The first section of this post contains an implementation of $\\mu$kanren in python; in the second section I introduce some syntactic sugar to make it more similar to miniKanren; the last section contains some examples of what\n",
    "kind of programs can be written with it."
   ]
  },
  {
   "cell_type": "markdown",
   "metadata": {},
   "source": [
    "## $\\mu$Kanren core\n",
    "\n",
    "The objective of a $\\mu$Kanren program is to find all the valid substitutions of logic variables so that all predicates are satisfied. "
   ]
  },
  {
   "cell_type": "markdown",
   "metadata": {
    "collapsed": true
   },
   "source": [
    "### Logic variables\n",
    "\n",
    "A `logic_variable` is an object. It is identified by an index: two `logic_variable`s are the same if they have the same index."
   ]
  },
  {
   "cell_type": "code",
   "execution_count": 122,
   "metadata": {
    "collapsed": false
   },
   "outputs": [],
   "source": [
    "import collections\n",
    "\n",
    "logic_variable = collections.namedtuple(\"logic_variable\", [\"index\"])\n",
    "\n",
    "def is_logic_var(x):\n",
    "    return isinstance(x, logic_variable)"
   ]
  },
  {
   "cell_type": "markdown",
   "metadata": {},
   "source": [
    "A counter, called the *fresh variable counter*, is used to generate unique indexes when creating new `logic_variable`s."
   ]
  },
  {
   "cell_type": "markdown",
   "metadata": {},
   "source": [
    "### Substitutions\n",
    "\n",
    "From the [paper]\n",
    "> A $\\mu$Kanren program proceeds through the application of a **goal** to a **state**. Goals are often understood by analogy to predicates. Whereas the application of a predicate to an element of its domain can be either true or false, a goal pursued in a given state can either succeed or fail.\n",
    "\n",
    "> A **state** is a pair of a substitution (represented as a dictionary) and a non-negative integer representing a fresh variable counter."
   ]
  },
  {
   "cell_type": "markdown",
   "metadata": {},
   "source": [
    "Substitutions are represented by python dictionaries whose keys $k$ are `logic_variable`s, and whose values $v$ are items that can replace that variable."
   ]
  },
  {
   "cell_type": "code",
   "execution_count": 123,
   "metadata": {
    "collapsed": true
   },
   "outputs": [],
   "source": [
    "class SubstitutionMap(dict):\n",
    "    pass"
   ]
  },
  {
   "cell_type": "markdown",
   "metadata": {},
   "source": [
    "A `logic_variable` $X$ can be\n",
    "*   free: the SubstitionMap does not contain $X$, and in that case predicates hold for every value it assumes. \n",
    "*   bound to another `logic_variable` $Y$: $X$ is equivalent to $Y$, and SubstitutionMap[$X$] = $Y$\n",
    "*   bound to an item $i$: predicates hold when $X$ is replaced by $i$\n",
    "\n",
    "We will see later what are the terms of the language, and so what are the items."
   ]
  },
  {
   "cell_type": "markdown",
   "metadata": {},
   "source": [
    "The **walk** method searches for a term's value. If the term is a value (i.e. not a logic variable), then it returns the value itself. Otherwise, it traverses the chain of substitutions looking to verify if a value has been already determined for that variable.\n",
    "\n",
    "The **ext_s** is factory method that adds a new binding to an existing SubstitutionMap."
   ]
  },
  {
   "cell_type": "code",
   "execution_count": 124,
   "metadata": {
    "collapsed": false
   },
   "outputs": [],
   "source": [
    "class SubstitutionMap(dict):\n",
    "    \n",
    "    def walk(self, var):\n",
    "        while is_logic_var(var) and var in self:\n",
    "            var = self[var]\n",
    "        return var\n",
    "\n",
    "    def ext_s(self, var, value):\n",
    "        s = SubstitutionMap(self)\n",
    "        s[var] = value\n",
    "        return s"
   ]
  },
  {
   "cell_type": "code",
   "execution_count": 125,
   "metadata": {
    "collapsed": false
   },
   "outputs": [],
   "source": [
    "# test SubstitutionMap\n",
    "x, y = logic_variable(0), logic_variable(1)\n",
    "\n",
    "assert x == SubstitutionMap().walk(x), \"x is free\"\n",
    "\n",
    "assert 1 == SubstitutionMap({x: 1}).walk(x), \"x is bound to 1\"\n",
    "\n",
    "assert \"something else\" == SubstitutionMap({x: y})\\\n",
    "                           .ext_s(y, \"something else\")\\\n",
    "                           .walk(x), \"walk must traverse the chain of substitutions\""
   ]
  },
  {
   "cell_type": "markdown",
   "metadata": {},
   "source": [
    "The *fresh variable counter* is an int starting from 0, and it is used throught the evaluation to get new unique indexes for logic variables.\n",
    "\n",
    "Initially, there are no substitutions, and the counter is 0. That state is called `empty_state`."
   ]
  },
  {
   "cell_type": "code",
   "execution_count": 126,
   "metadata": {
    "collapsed": true
   },
   "outputs": [],
   "source": [
    "empty_state = (SubstitutionMap(), 0)"
   ]
  },
  {
   "cell_type": "markdown",
   "metadata": {},
   "source": [
    "### The terms of the language: `unify`\n",
    "\n",
    "The function `unify` defines which are the terms of the language.\n",
    "It takes as arguments two objects, $x$ and $y$, and a SubstitutionMap *substitutions*.\n",
    "\n",
    "Its objective is to add new bindings to *substitutions*, so that $x$ and $y$ becomes equivalent, i.e. \n",
    "```\n",
    "unifying = unify(x, y, substitution)\n",
    "unifying.walk(x) == unifying.walk(y)\n",
    "```\n",
    "\n",
    "If there is no way to get $x$ equivalent to $y$, for example because they are both already bound to terms\n",
    "not equivalent, then it `unify` returns `None`. In this case we say that $x$ and $y$ do not unify under\n",
    "`substitution` , i.e.\n",
    "\n",
    "```\n",
    "unify(x, y, substitution) == None\n",
    "```"
   ]
  },
  {
   "cell_type": "markdown",
   "metadata": {},
   "source": [
    "In this implementation, valid terms are python objects. At the beginning `unify` walks the two arguments\n",
    "by using the SubstitutionMap. Then it checks the terms (i.e. the objects) it got. The two objects unify if\n",
    "*   they are equals according to the `==` operator, and *substitution* stays unchanged\n",
    "*   one is a `logic_variable` $v$, and in that case it means that $v$ is no more free, because it must be substituted with the other term to get the unification working\n",
    "*   they are sequences, and in that case the unification is recursively applied term by term."
   ]
  },
  {
   "cell_type": "code",
   "execution_count": 127,
   "metadata": {
    "collapsed": false
   },
   "outputs": [],
   "source": [
    "def unify(x, y, substitutions):\n",
    "    if substitutions is None:\n",
    "        return None\n",
    "\n",
    "    x = substitutions.walk(x)\n",
    "    y = substitutions.walk(y)\n",
    "\n",
    "    if x == y:\n",
    "        return substitutions\n",
    "    elif is_logic_var(x):\n",
    "        return substitutions.ext_s(x, y)\n",
    "    elif is_logic_var(y):\n",
    "        return substitutions.ext_s(y, x)\n",
    "    elif is_sequence(x) and is_sequence(y):\n",
    "        return unify_sequences(x, y, substitutions)\n",
    "    return None"
   ]
  },
  {
   "cell_type": "markdown",
   "metadata": {},
   "source": [
    "Note that I defined sequences as objects with the `__iter__` method. This is complitely arbitrary and independent from the rest of $\\mu$Kanren.\n",
    "To handle new kind of terms, we must update the `unify` function."
   ]
  },
  {
   "cell_type": "code",
   "execution_count": 128,
   "metadata": {
    "collapsed": true
   },
   "outputs": [],
   "source": [
    "import itertools as it\n",
    "\n",
    "def is_sequence(o):\n",
    "    #  I want it to fail on strings\n",
    "    return not is_logic_var(o) and hasattr(o, '__iter__')\n",
    "\n",
    "def unify_sequences(xs, ys, substitutions):\n",
    "    if len(xs) != len(ys):\n",
    "        return None\n",
    "    for a, b in it.izip(xs, ys):\n",
    "        substitutions = unify(a, b, substitutions) \n",
    "    return substitutions"
   ]
  },
  {
   "cell_type": "code",
   "execution_count": 129,
   "metadata": {
    "collapsed": false
   },
   "outputs": [],
   "source": [
    "# Test unify\n",
    "x, y = logic_variable(0), logic_variable(1)\n",
    "assert unify(x, y, SubstitutionMap()) ==\\\n",
    "       SubstitutionMap({x: y}), \"to unify x and y, substitute y to x\"\n",
    "\n",
    "assert unify(x, y, SubstitutionMap({x: \"value x\", y: \"value y\"}) ) is None, \"they cannot be equivalent\"\n",
    "assert unify(x, 5, SubstitutionMap()) == SubstitutionMap({x: 5})\n",
    "assert unify((x, 1, y), (1, 2, 3), SubstitutionMap()) is None, \"sequences unify term-by-term\"\n",
    "assert unify((x, 1, y), (1, 1, 3), SubstitutionMap()) ==\\\n",
    "       SubstitutionMap({x: 1, y: 3}), \"sequences unify term-by-term\""
   ]
  },
  {
   "cell_type": "markdown",
   "metadata": {},
   "source": [
    "## Goals/Predicates builder\n",
    "\n",
    "A *goal* is a function which takes as argument a state, i.e. a pair (`SubstitutionMap`, *fresh variable counter*), and returns a list of states which satisfy the goal.\n",
    "In this implementation, *goal*s are generators yielding the valid states. If the generator is empty, then that goal\n",
    "does not succeed.\n",
    "\n",
    "A $\\mu$Kanren program is built by using four goals builder: `equiv`, `call_fresh`, `disj` and `conj`."
   ]
  },
  {
   "cell_type": "markdown",
   "metadata": {},
   "source": [
    "### `Equiv`\n",
    " `equiv` builds a goal which succeeds if its two arguments unify, i.e. it yields the substitutions which make its arguments unify"
   ]
  },
  {
   "cell_type": "code",
   "execution_count": 130,
   "metadata": {
    "collapsed": false
   },
   "outputs": [],
   "source": [
    "def equiv(x, y):\n",
    "    def _goal((substitutions, fresh_var_counter)):\n",
    "        unifying = unify(x, y, substitutions)\n",
    "        if unifying is not None:\n",
    "            yield (unifying, fresh_var_counter)\n",
    "    return _goal"
   ]
  },
  {
   "cell_type": "code",
   "execution_count": 131,
   "metadata": {
    "collapsed": false
   },
   "outputs": [],
   "source": [
    "# Test equiv\n",
    "x, y = logic_variable(0), logic_variable(1)\n",
    "assert list(equiv(x, 5)(empty_state)) == [(SubstitutionMap({x: 5}), 0)]\n",
    "assert list(equiv(x, y)(empty_state)) == [(SubstitutionMap({x: y}), 0)]"
   ]
  },
  {
   "cell_type": "markdown",
   "metadata": {},
   "source": [
    "### `call_fresh`\n",
    "The call/fresh goal constructor creates a new `logic_variable`.\n",
    "\n",
    "It takes as argument a unary function $f$, which must return a goal, and it returns\n",
    "a new goal which runs $f$ by binding its argument to a new `logic_variable`.\n",
    "It leaves unchanged the substitutions, but it increments the *fresh variable counter*,\n",
    "to ensure unicity of variables indexes."
   ]
  },
  {
   "cell_type": "code",
   "execution_count": 132,
   "metadata": {
    "collapsed": false
   },
   "outputs": [],
   "source": [
    "def call_fresh(f):\n",
    "    def _new_goal((substitutions, fresh_var_counter)):\n",
    "        return f(logic_variable(fresh_var_counter))((substitutions, fresh_var_counter+1))\n",
    "    return _new_goal\n"
   ]
  },
  {
   "cell_type": "markdown",
   "metadata": {},
   "source": [
    "As shown in the following tests, if I want to introduce a new logic variable in a goal $G$:\n",
    "*   I wrap the goal $G$ in a unary function $f$\n",
    "*   I use the sole argument of $f$ as logic_variable in $G$\n",
    "*   I pass $f$ to `call_fresh` and I use the resulting goal\n",
    "\n",
    "This is quiet verbose: the API will be simplified with the operator `fresh`. Since this is not\n",
    "part of the core of $\\mu$Kanren, we will see that later."
   ]
  },
  {
   "cell_type": "code",
   "execution_count": 133,
   "metadata": {
    "collapsed": false
   },
   "outputs": [],
   "source": [
    "# test call_fresh\n",
    "x, y = logic_variable(0), logic_variable(1)\n",
    "def is_five(new_var):\n",
    "    return equiv(new_var, 5)\n",
    "goal = call_fresh(is_five)\n",
    "assert list(goal(empty_state)) ==\\\n",
    "       [(SubstitutionMap({x: 5}), 1)], \"x must be 5\"\n",
    "\n",
    "# for every new variable, I need a new call_fresh\n",
    "def f(var):\n",
    "    def _g(other_var):\n",
    "        return equiv(var, other_var)\n",
    "    return call_fresh(_g)\n",
    "goal = call_fresh(f)\n",
    "\n",
    "assert list(goal(empty_state)) ==\\\n",
    "       [(SubstitutionMap({x: y}), 2)], \"x and y are equivalent but not bound to a term\"\n"
   ]
  },
  {
   "cell_type": "markdown",
   "metadata": {},
   "source": [
    "### `disj`\n",
    "\n",
    "`disj` takes as arguments some goals, and it returns a new goal which succeeds for a given state $s$ if either succeeds for that state $s$.\n",
    "\n",
    "I use `ANY` as synonim of `disj`, since it is equivalent to the built-in function `any`."
   ]
  },
  {
   "cell_type": "code",
   "execution_count": 134,
   "metadata": {
    "collapsed": true
   },
   "outputs": [],
   "source": [
    "def disj(*goals):\n",
    "    def _new_goal(state):\n",
    "        return it.chain.from_iterable(g(state) for g in goals)\n",
    "    return _new_goal\n",
    "\n",
    "ANY = disj"
   ]
  },
  {
   "cell_type": "code",
   "execution_count": 196,
   "metadata": {
    "collapsed": false
   },
   "outputs": [],
   "source": [
    "# test disj\n",
    "x, y = logic_variable(0), logic_variable(1)\n",
    "\n",
    "def g_any_ok(var_x, var_y):\n",
    "    \"\"\"\n",
    "    It succeeds if x is 2, or y is 3 or x is y\n",
    "    \"\"\"\n",
    "    return ANY(equiv(var_x, 2),\n",
    "               equiv(var_y, 3),\n",
    "               equiv(var_x, var_y))\n",
    "\n",
    "## 2 variables, so 2 call_fresh(unary function)\n",
    "r = list(call_fresh(lambda x: call_fresh(lambda y: g_any_ok(x, y)))(empty_state))\n",
    "assert len(r) == 3 \\\n",
    "        and (SubstitutionMap({x: 2}), 2) in r \\\n",
    "        and (SubstitutionMap({y: 3}), 2) in r\\\n",
    "        and ({x: y}, 2) in r, \"Three solutions must be returned\""
   ]
  },
  {
   "cell_type": "markdown",
   "metadata": {},
   "source": [
    "### `conj`\n",
    "`conj` takes as arguments some goals, and it returns a new goal which succeeds for a given state $s$\n",
    "if all of them succeed for that state $s$. \n",
    "\n",
    "I use `ALL` as synonim of `conj`, since it is equivalent to the built-in function `all`."
   ]
  },
  {
   "cell_type": "code",
   "execution_count": 197,
   "metadata": {
    "collapsed": true
   },
   "outputs": [],
   "source": [
    "def make_stream(goal, s):\n",
    "    return it.chain.from_iterable(it.imap(goal, s))\n",
    "\n",
    "def conj(*goals):\n",
    "    \"\"\"\n",
    "    It returns a goal which succeeds if all the goals passed as argument succeed\n",
    "    for that state.\n",
    "    \"\"\"\n",
    "    def _new_goal(state):\n",
    "        stream = goals[0](state)\n",
    "        for g in goals[1:]:\n",
    "            stream = make_stream(g, stream)\n",
    "        return stream\n",
    "    return _new_goal\n",
    "\n",
    "ALL = conj"
   ]
  },
  {
   "cell_type": "code",
   "execution_count": 198,
   "metadata": {
    "collapsed": false
   },
   "outputs": [],
   "source": [
    "# test disj\n",
    "x, y = logic_variable(0), logic_variable(1)\n",
    "\n",
    "def g_all_ko(var_x, var_y):\n",
    "    \"\"\"\n",
    "    It succeeds if x is 2, or y is 3 or x is y\n",
    "    \"\"\"\n",
    "    return ALL(equiv(var_x, 2),\n",
    "               equiv(var_y, 3),\n",
    "               equiv(var_x, var_y))\n",
    "\n",
    "# fresh will fix this mess\n",
    "r = list(call_fresh(lambda x: call_fresh(lambda y: g_all_ko(x, y)))(empty_state))\n",
    "assert len(r) == 0, \"x is not equivalent to y\"\n",
    "\n",
    "def g_all_ok(var_x, var_y):\n",
    "    \"\"\"\n",
    "    It succeeds if x is 2 or 3, and y is 3 and y is x\n",
    "    \"\"\"\n",
    "    return ALL(ANY(equiv(var_x, 2), equiv(var_x, 3)),\n",
    "               equiv(var_y, 3),\n",
    "               equiv(var_x, var_y))\n",
    "\n",
    "r = list(call_fresh(lambda x: call_fresh(lambda y: g_all_ok(x, y)))(empty_state))\n",
    "assert r == [(SubstitutionMap({x: 3, y: 3}), 2)], \"x cannot be 2\""
   ]
  },
  {
   "cell_type": "markdown",
   "metadata": {},
   "source": [
    "**That's it**. This is the core of $\\mu$Kanren.\n",
    "\n",
    "In the next session we will add some syntactic sugar from minikanren."
   ]
  },
  {
   "cell_type": "markdown",
   "metadata": {},
   "source": [
    "## Minikanren sugar\n",
    "\n",
    "Now that we have the core of the system, it is time to add some sugar toe make it pleasant to use.\n",
    "\n",
    "### `fresh`\n",
    "`fresh` is a `call_fresh` without the single-variable limitation."
   ]
  },
  {
   "cell_type": "code",
   "execution_count": 199,
   "metadata": {
    "collapsed": true
   },
   "outputs": [],
   "source": [
    "import inspect\n",
    "\n",
    "def fresh_helper(curried_goal, nargs):\n",
    "    if nargs <= 1:\n",
    "        return call_fresh(curried_goal)\n",
    "    else:\n",
    "        return call_fresh(lambda x: fresh_helper(p(curried_goal, x), nargs-1))\n",
    "    \n",
    "def fresh(variadic_goal):\n",
    "    # Discover now many arguments it has, and apply the pattern\n",
    "    # wrap in a function -> pass it to call_fresh\n",
    "    positional_args = inspect.getargspec(variadic_goal).args\n",
    "    return fresh_helper(variadic_goal, len(positional_args))"
   ]
  },
  {
   "cell_type": "code",
   "execution_count": null,
   "metadata": {
    "collapsed": false
   },
   "outputs": [],
   "source": []
  },
  {
   "cell_type": "code",
   "execution_count": 200,
   "metadata": {
    "collapsed": false
   },
   "outputs": [],
   "source": [
    "# test fresh         \n",
    "# I use here the same functions used to test ALL. The API here is soooo much better\n",
    "assert list(fresh(g_all_ko)(empty_state)) == []\n",
    "assert list(fresh(g_all_ok)(empty_state)) == \\\n",
    "       [(SubstitutionMap({x: 3, y: 3}), 2)], \"x cannot be 2\""
   ]
  },
  {
   "cell_type": "markdown",
   "metadata": {},
   "source": [
    "### `run`\n",
    "\n",
    "`run` calls `fresh` for us. It takes a goal as arguments and yield the substitutions\n",
    "for which that goal succeeds.\n",
    "\n",
    "It hides `fresh` and the *fresh variable counter*.\n",
    "In the next section we will redefine it to hide also the `SubstitionMap`."
   ]
  },
  {
   "cell_type": "code",
   "execution_count": 201,
   "metadata": {
    "collapsed": false
   },
   "outputs": [
    {
     "data": {
      "text/plain": [
       "[{logic_variable(index=0): 2},\n",
       " {logic_variable(index=1): 3},\n",
       " {logic_variable(index=0): logic_variable(index=1)}]"
      ]
     },
     "execution_count": 201,
     "metadata": {},
     "output_type": "execute_result"
    }
   ],
   "source": [
    "def run(goal_builder):\n",
    "    for s, _ in fresh(goal_builder)(empty_state):\n",
    "        yield s\n",
    "        \n",
    "list(run(g_any_ok))"
   ]
  },
  {
   "cell_type": "markdown",
   "metadata": {},
   "source": [
    "### `reify`\n",
    "\n",
    "`reify` translates the internal representation of variables\n",
    "to a human readable form.\n",
    "\n",
    "The reification starts by `walk`ing a variable in the `SubstitutionMap`.\n",
    "\n",
    "If the result is a `logic_variable`, then that variable could be free,\n",
    "or not bound to an item but equivalent to another `logic_variable`.\n",
    "To represent this, I use the objects `any_value`. They contain an id,\n",
    "and two `any_value`s are equivalent if that id is the same.\n",
    "\n",
    "Sequences are reified to lists, where each element is the reified version\n",
    "of the elements of original sequence.\n",
    "\n",
    "Items are reified to themselves."
   ]
  },
  {
   "cell_type": "code",
   "execution_count": 202,
   "metadata": {
    "collapsed": false
   },
   "outputs": [],
   "source": [
    "any_value = collections.namedtuple(\"any_value\", [\"id\"])\n",
    "\n",
    "def reify_sequence(subs, objects):\n",
    "    return [reify(subs, o) for o in objects]\n",
    "\n",
    "def reify(substitutions, o):\n",
    "    o = substitutions.walk(o)\n",
    "    if is_logic_var(o):\n",
    "        return any_value(o.index)\n",
    "    elif is_sequence(o):\n",
    "        return reify_sequence(substitutions, o)\n",
    "    else:\n",
    "        return o"
   ]
  },
  {
   "cell_type": "code",
   "execution_count": 203,
   "metadata": {
    "collapsed": false
   },
   "outputs": [],
   "source": [
    "# test reify\n",
    "x, y, z = logic_variable(0), logic_variable(1), logic_variable(2)\n",
    "empty_sm = SubstitutionMap()\n",
    "test_sm = SubstitutionMap({x: 2, y: z, z: 3})\n",
    "\n",
    "assert any_value(id=0) == reify(empty_sm, x), \"x is a free variable\"\n",
    "assert 3  == reify(test_sm, z) == reify(test_sm, y), \"y and z walk to 3\"\n",
    "assert reify(test_sm, logic_variable(12)) != \\\n",
    "       reify(test_sm, logic_variable(logic_variable(2))), \"free variables not equivalent\""
   ]
  },
  {
   "cell_type": "markdown",
   "metadata": {},
   "source": [
    "### `run`, reworked"
   ]
  },
  {
   "cell_type": "markdown",
   "metadata": {},
   "source": [
    "I let `run` handle the reification, and hide completely the `SubstitutionMap`.\n",
    "\n",
    "The new `run` takes as argument a variadic function building a goal,\n",
    "it calls `fresh` to create `logic_variable`s, and it yields all the solutions which make the goal\n",
    "succeeds. A solution is a tuple containing the reified variables in the same order of the goal builder arguments.\n",
    "\n",
    "I exploit the fact that variable indexes match the order of the arguments they are bound to."
   ]
  },
  {
   "cell_type": "code",
   "execution_count": 211,
   "metadata": {
    "collapsed": false
   },
   "outputs": [],
   "source": [
    "def run(goal_builder, stop=None):\n",
    "    args = inspect.getargspec(goal_builder).args\n",
    "    var_indexes = range(len(args))\n",
    "    substitutions = fresh(goal_builder)(empty_state)\n",
    "    for s, _ in it.islice(substitutions, stop):\n",
    "        # it reifies the variables in the order of corresponding\n",
    "        # arguments of goal\n",
    "        yield tuple(reify(s, logic_variable(idx)) for idx in var_indexes)"
   ]
  },
  {
   "cell_type": "code",
   "execution_count": 212,
   "metadata": {
    "collapsed": false
   },
   "outputs": [],
   "source": [
    "# test run\n",
    "\n",
    "solutions = list(sorted(run(g_any_ok)))\n",
    "assert solutions == [(2, any_value(id=1)), # g_any_ok(2, whatever)\n",
    "                     (any_value(id=0), 3), # g_any_ok(whatever, 3)\n",
    "                     (any_value(id=1), any_value(id=1))] # g_any_ok(whatever, the same)"
   ]
  },
  {
   "cell_type": "markdown",
   "metadata": {},
   "source": [
    "Examples\n",
    "Querying Game of Thrones"
   ]
  },
  {
   "cell_type": "code",
   "execution_count": 102,
   "metadata": {
    "collapsed": false
   },
   "outputs": [],
   "source": [
    "got_characters = {0: ('catelyn', 'tully'),\n",
    "                  1: ('eddard', 'stark'),\n",
    "                  2: ('sansa', 'stark'),\n",
    "                  3: ('benjen', 'stark'),\n",
    "                  4: ('robb', 'stark'),\n",
    "                  5: ('joffrey', 'baratheon'),\n",
    "                  6: ('stannis', 'baratheon'),\n",
    "                  7: ('cersei', 'lannister'),\n",
    "                  8: ('tyrion', 'lannister'),\n",
    "                  9: ('tommen', 'baratheon'),\n",
    "                  10: ('jon', 'snow'),\n",
    "                  11: ('myrcella', 'baratheon'),\n",
    "                  12: ('tywin', 'lannister'),\n",
    "                  13: ('jaime', 'lannister'),\n",
    "                  14: ('rickon', 'stark'),\n",
    "                  15: ('arya', 'stark'),\n",
    "                  16: ('brandon', 'stark'),\n",
    "                  17: ('renly', 'baratheon'),\n",
    "                  18: ('robert', 'baratheon')}"
   ]
  },
  {
   "cell_type": "code",
   "execution_count": 103,
   "metadata": {
    "collapsed": true
   },
   "outputs": [],
   "source": [
    "def charactero(characterid, name, surname):\n",
    "    return ANY(\n",
    "        *[ALL(equiv(characterid, k), equiv(name, n), equiv(surname, s))\n",
    "          for (k, (n, s)) in got_characters.iteritems()]\n",
    "    )"
   ]
  },
  {
   "cell_type": "code",
   "execution_count": 104,
   "metadata": {
    "collapsed": false
   },
   "outputs": [
    {
     "data": {
      "text/plain": [
       "[('stark', 'eddard')]"
      ]
     },
     "execution_count": 104,
     "metadata": {},
     "output_type": "execute_result"
    }
   ],
   "source": [
    "list(run(\n",
    "        lambda x, y: charactero(1, x, y)\n",
    "    ))"
   ]
  },
  {
   "cell_type": "code",
   "execution_count": 105,
   "metadata": {
    "collapsed": false
   },
   "outputs": [
    {
     "data": {
      "text/plain": [
       "[('joffrey', 5),\n",
       " ('stannis', 6),\n",
       " ('tommen', 9),\n",
       " ('myrcella', 11),\n",
       " ('renly', 17),\n",
       " ('robert', 18)]"
      ]
     },
     "execution_count": 105,
     "metadata": {},
     "output_type": "execute_result"
    }
   ],
   "source": [
    "list(run(\n",
    "        lambda x, y: charactero(x, y, 'baratheon')\n",
    "    ))"
   ]
  },
  {
   "cell_type": "code",
   "execution_count": 106,
   "metadata": {
    "collapsed": true
   },
   "outputs": [],
   "source": [
    "got_houses = {'stark': [0, 1, 2, 3, 4, 10,  15, 16],\n",
    "              'tully': [0],\n",
    "              'lannister': [5, 7, 8, 9, 11, 12, 13],\n",
    "              'baratheon': [5, 7, 9, 11, 6, 18]}\n",
    "\n",
    "def _houseo(house_name, characterid):\n",
    "    g = ANY(\n",
    "        *[ALL(equiv(house_name, k), equiv(characterid, v))\n",
    "          for (k, vs) in got_houses.iteritems() for v in vs ])\n",
    "    return g"
   ]
  },
  {
   "cell_type": "code",
   "execution_count": 58,
   "metadata": {
    "collapsed": false
   },
   "outputs": [
    {
     "data": {
      "text/plain": [
       "[(5,), (7,), (9,), (11,), (6,), (18,)]"
      ]
     },
     "execution_count": 58,
     "metadata": {},
     "output_type": "execute_result"
    }
   ],
   "source": [
    "list(run(\n",
    "        lambda i: _houseo('baratheon', i)\n",
    "    ))"
   ]
  },
  {
   "cell_type": "code",
   "execution_count": 59,
   "metadata": {
    "collapsed": true
   },
   "outputs": [],
   "source": [
    "def houseo(family_name, name, surname):\n",
    "    def _f(characterid):\n",
    "        return ALL(\n",
    "            _houseo(family_name, characterid),\n",
    "            charactero(characterid, name, surname)\n",
    "        )\n",
    "    return fresh(_f)"
   ]
  },
  {
   "cell_type": "code",
   "execution_count": 60,
   "metadata": {
    "collapsed": false
   },
   "outputs": [
    {
     "data": {
      "text/plain": [
       "[('baratheon', 'baratheon'), ('lannister', 'baratheon')]"
      ]
     },
     "execution_count": 60,
     "metadata": {},
     "output_type": "execute_result"
    }
   ],
   "source": [
    "list(run(\n",
    "        lambda house, surname: houseo(house, 'joffrey', surname)\n",
    "    ))"
   ]
  },
  {
   "cell_type": "code",
   "execution_count": 61,
   "metadata": {
    "collapsed": false
   },
   "outputs": [
    {
     "data": {
      "text/plain": [
       "[('baratheon', 'joffrey'),\n",
       " ('baratheon', 'tommen'),\n",
       " ('baratheon', 'myrcella'),\n",
       " ('baratheon', 'stannis'),\n",
       " ('baratheon', 'robert'),\n",
       " ('lannister', 'cersei'),\n",
       " ('lannister', 'tyrion'),\n",
       " ('lannister', 'tywin'),\n",
       " ('lannister', 'jaime'),\n",
       " ('stark', 'eddard'),\n",
       " ('stark', 'sansa'),\n",
       " ('stark', 'benjen'),\n",
       " ('stark', 'robb'),\n",
       " ('stark', 'arya'),\n",
       " ('stark', 'brandon'),\n",
       " ('tully', 'catelyn')]"
      ]
     },
     "execution_count": 61,
     "metadata": {},
     "output_type": "execute_result"
    }
   ],
   "source": [
    "list(run(\n",
    "        lambda house, name: houseo(house, name, house)\n",
    "    ))\n",
    "\n",
    "# no jon snow"
   ]
  },
  {
   "cell_type": "code",
   "execution_count": 62,
   "metadata": {
    "collapsed": false
   },
   "outputs": [
    {
     "data": {
      "text/plain": [
       "[('baratheon', 'cersei', 'lannister'),\n",
       " ('lannister', 'joffrey', 'baratheon'),\n",
       " ('lannister', 'tommen', 'baratheon'),\n",
       " ('lannister', 'myrcella', 'baratheon'),\n",
       " ('stark', 'catelyn', 'tully'),\n",
       " ('stark', 'jon', 'snow')]"
      ]
     },
     "execution_count": 62,
     "metadata": {},
     "output_type": "execute_result"
    }
   ],
   "source": [
    "def not_equiv(x, y):\n",
    "    def _goal(state):\n",
    "        substitutions, counter = state\n",
    "        unified = unify(x, y, substitutions)\n",
    "        if unified is None:\n",
    "            yield (substitutions, counter)\n",
    "    return _goal\n",
    "\n",
    "list(run(\n",
    "        lambda house, name, family: ALL(\n",
    "            houseo(house, name, family),\n",
    "            not_equiv(house, family))\n",
    "    ))"
   ]
  },
  {
   "cell_type": "markdown",
   "metadata": {},
   "source": [
    "Data structures\n",
    "\n",
    "cons"
   ]
  },
  {
   "cell_type": "code",
   "execution_count": 63,
   "metadata": {
    "collapsed": true
   },
   "outputs": [],
   "source": [
    "def emptyo(d):\n",
    "    return equiv(d, ())\n",
    "\n",
    "def conso(a, b, cons):\n",
    "    return equiv((a, b), cons)\n",
    "\n",
    "def firsto(cons, elt):\n",
    "    return fresh(lambda t: conso(elt, t, cons))\n",
    "\n",
    "def tailo(cons, tail):\n",
    "    return fresh(lambda first: conso(first, tail, cons))"
   ]
  },
  {
   "cell_type": "code",
   "execution_count": 64,
   "metadata": {
    "collapsed": false
   },
   "outputs": [
    {
     "data": {
      "text/plain": [
       "[([1, any_value(id=1)],)]"
      ]
     },
     "execution_count": 64,
     "metadata": {},
     "output_type": "execute_result"
    }
   ],
   "source": [
    "list(run(\n",
    "        lambda x: firsto(x, 1)))"
   ]
  },
  {
   "cell_type": "code",
   "execution_count": 85,
   "metadata": {
    "collapsed": false
   },
   "outputs": [],
   "source": [
    "def consify(lst):\n",
    "    cons = ()\n",
    "    for i in reversed(lst):\n",
    "        cons = (i, cons)\n",
    "    return cons\n",
    "\n",
    "def ideconsify(cons):\n",
    "    while cons:\n",
    "        car, cdr = cons\n",
    "        yield car\n",
    "        cons = cdr\n",
    "\n",
    "def deconsify(cons):\n",
    "    return list(ideconsify(cons))\n",
    "\n",
    "\n",
    "ten = consify(range(10))\n",
    "list(run(\n",
    "        lambda f, t, other: ALL(\n",
    "            firsto(ten, f),\n",
    "            tailo(ten, t),\n",
    "            firsto(other, f))\n",
    "    ))\n",
    "\n",
    "assert deconsify(consify([])) == []\n",
    "assert deconsify(consify(range(100))) == range(100)"
   ]
  },
  {
   "cell_type": "markdown",
   "metadata": {},
   "source": [
    "Intermezzo: More minikanren"
   ]
  },
  {
   "cell_type": "code",
   "execution_count": 66,
   "metadata": {
    "collapsed": true
   },
   "outputs": [],
   "source": [
    "def conde(*disjs):\n",
    "    \"\"\"\n",
    "    Syntactic sugar around the ANY - ALL template\n",
    "    \n",
    "    conde is also a form of if-then-else construct\n",
    "    conde(\n",
    "        [if-clause1 then],\n",
    "        [if-clause2 then],\n",
    "    )\n",
    "    \"\"\"\n",
    "    return ANY(\n",
    "        *[ALL(*conjs) for conjs in disjs]\n",
    "    )"
   ]
  },
  {
   "cell_type": "code",
   "execution_count": 67,
   "metadata": {
    "collapsed": true
   },
   "outputs": [],
   "source": [
    "def membero(lst, elt):\n",
    "    def _f(tail):\n",
    "        return conde(\n",
    "            [firsto(lst, elt)],\n",
    "            [tailo(lst, tail), membero(tail, elt)])\n",
    "    return fresh(_f)"
   ]
  },
  {
   "cell_type": "code",
   "execution_count": 68,
   "metadata": {
    "collapsed": false
   },
   "outputs": [
    {
     "data": {
      "text/plain": [
       "[]"
      ]
     },
     "execution_count": 68,
     "metadata": {},
     "output_type": "execute_result"
    }
   ],
   "source": [
    "list(run(\n",
    "        lambda x: membero(consify(range(12)), 30)\n",
    "        ))"
   ]
  },
  {
   "cell_type": "code",
   "execution_count": 69,
   "metadata": {
    "collapsed": false
   },
   "outputs": [
    {
     "data": {
      "text/plain": [
       "[(any_value(id=0),)]"
      ]
     },
     "execution_count": 69,
     "metadata": {},
     "output_type": "execute_result"
    }
   ],
   "source": [
    "list(run(\n",
    "        lambda x: membero(consify(range(12)), 11)\n",
    "        ))"
   ]
  },
  {
   "cell_type": "code",
   "execution_count": 70,
   "metadata": {
    "collapsed": false
   },
   "outputs": [
    {
     "data": {
      "text/plain": [
       "[]"
      ]
     },
     "execution_count": 70,
     "metadata": {},
     "output_type": "execute_result"
    }
   ],
   "source": [
    "list(run(\n",
    "        lambda x: membero(consify(range(0)), x),\n",
    "        stop=50))"
   ]
  },
  {
   "cell_type": "code",
   "execution_count": 80,
   "metadata": {
    "collapsed": false
   },
   "outputs": [
    {
     "data": {
      "text/plain": [
       "[([10, any_value(id=2)],),\n",
       " ([any_value(id=2), [10, any_value(id=4)]],),\n",
       " ([any_value(id=2), [any_value(id=4), [10, any_value(id=6)]]],),\n",
       " ([any_value(id=2),\n",
       "   [any_value(id=4), [any_value(id=6), [10, any_value(id=8)]]]],),\n",
       " ([any_value(id=2),\n",
       "   [any_value(id=4),\n",
       "    [any_value(id=6), [any_value(id=8), [10, any_value(id=10)]]]]],)]"
      ]
     },
     "execution_count": 80,
     "metadata": {},
     "output_type": "execute_result"
    }
   ],
   "source": [
    "list(run(\n",
    "        lambda x: membero(x, 10),\n",
    "        stop=5))\n",
    "\n",
    "\n"
   ]
  },
  {
   "cell_type": "markdown",
   "metadata": {},
   "source": []
  },
  {
   "cell_type": "code",
   "execution_count": 81,
   "metadata": {
    "collapsed": false
   },
   "outputs": [
    {
     "data": {
      "text/plain": [
       "[([1, [2, [3, [4, []]]]],)]"
      ]
     },
     "execution_count": 81,
     "metadata": {},
     "output_type": "execute_result"
    }
   ],
   "source": [
    "def appendo(x, y, res):\n",
    "    \"\"\"\n",
    "    concatenate x and y\n",
    "    \"\"\"\n",
    "    def _f(a, b, c):\n",
    "        return conde(\n",
    "            # if x is empty, then res is y\n",
    "            [emptyo(x), equiv(y, res)],\n",
    "            # otherwise is something like cons(a, b), thus res will be cons(a, c),\n",
    "            # which means that c is what you get when concatenating b and y\n",
    "            [conso(a, b, x), conso(a, c, res), appendo(b, y, c) ]) \n",
    "    return fresh(_f)\n",
    "\n",
    "list(run(\n",
    "        lambda x: appendo(consify([1, 2]), consify([3,4]), x),\n",
    "        ))"
   ]
  },
  {
   "cell_type": "code",
   "execution_count": null,
   "metadata": {
    "collapsed": true
   },
   "outputs": [],
   "source": []
  },
  {
   "cell_type": "code",
   "execution_count": 82,
   "metadata": {
    "collapsed": false
   },
   "outputs": [
    {
     "data": {
      "text/plain": [
       "[([1, [2, []]], []),\n",
       " ([any_value(id=2), [1, [2, []]]], [any_value(id=2), []]),\n",
       " ([any_value(id=2), [any_value(id=5), [1, [2, []]]]],\n",
       "  [any_value(id=2), [any_value(id=5), []]])]"
      ]
     },
     "execution_count": 82,
     "metadata": {},
     "output_type": "execute_result"
    }
   ],
   "source": [
    "list(run(\n",
    "        lambda x, y: appendo(x, consify([1, 2]), y),\n",
    "        stop=3))"
   ]
  },
  {
   "cell_type": "code",
   "execution_count": 111,
   "metadata": {
    "collapsed": false
   },
   "outputs": [
    {
     "name": "stdout",
     "output_type": "stream",
     "text": [
      " [3, [4, [5, [6, [7, [8, [9, []]]]]]]] any_value(id=0)\n"
     ]
    }
   ],
   "source": [
    "for x, y in run(lambda x, y: appendo(consify(range(3)), y, consify(range(10))), stop=5):\n",
    "   print x, y"
   ]
  },
  {
   "cell_type": "markdown",
   "metadata": {
    "collapsed": true
   },
   "source": [
    "I can count"
   ]
  },
  {
   "cell_type": "code",
   "execution_count": 75,
   "metadata": {
    "collapsed": false
   },
   "outputs": [],
   "source": [
    "zero = emptyo\n",
    "sumo = appendo\n",
    "\n",
    "def consify_i(n):\n",
    "    return consify(range(n))\n",
    "\n",
    "def deconsify_i(c):\n",
    "    n = 0\n",
    "    try:\n",
    "        while c:\n",
    "            _, c = c\n",
    "            n += 1\n",
    "    except:\n",
    "        return c\n",
    "    return n\n",
    "\n",
    "def deconsify_subs(s):\n",
    "    return {k: deconsify_i(v) for (k,v) in s.iteritems() }"
   ]
  },
  {
   "cell_type": "code",
   "execution_count": 76,
   "metadata": {
    "collapsed": false
   },
   "outputs": [
    {
     "ename": "AttributeError",
     "evalue": "'tuple' object has no attribute 'iteritems'",
     "output_type": "error",
     "traceback": [
      "\u001b[1;31m---------------------------------------------------------------------------\u001b[0m",
      "\u001b[1;31mAttributeError\u001b[0m                            Traceback (most recent call last)",
      "\u001b[1;32m<ipython-input-76-e248c11a9ade>\u001b[0m in \u001b[0;36m<module>\u001b[1;34m()\u001b[0m\n\u001b[0;32m      4\u001b[0m             \u001b[1;33m[\u001b[0m\u001b[0msumo\u001b[0m\u001b[1;33m(\u001b[0m\u001b[0mx\u001b[0m\u001b[1;33m,\u001b[0m \u001b[0my\u001b[0m\u001b[1;33m,\u001b[0m \u001b[0mconsify_i\u001b[0m\u001b[1;33m(\u001b[0m\u001b[1;36m10\u001b[0m\u001b[1;33m)\u001b[0m\u001b[1;33m)\u001b[0m\u001b[1;33m]\u001b[0m\u001b[1;33m,\u001b[0m\u001b[1;33m\u001b[0m\u001b[0m\n\u001b[0;32m      5\u001b[0m             ),\n\u001b[1;32m----> 6\u001b[1;33m         stop=50))\n\u001b[0m",
      "\u001b[1;32m<ipython-input-75-f1669ecfb1c3>\u001b[0m in \u001b[0;36mdeconsify_subs\u001b[1;34m(s)\u001b[0m\n\u001b[0;32m     16\u001b[0m \u001b[1;33m\u001b[0m\u001b[0m\n\u001b[0;32m     17\u001b[0m \u001b[1;32mdef\u001b[0m \u001b[0mdeconsify_subs\u001b[0m\u001b[1;33m(\u001b[0m\u001b[0ms\u001b[0m\u001b[1;33m)\u001b[0m\u001b[1;33m:\u001b[0m\u001b[1;33m\u001b[0m\u001b[0m\n\u001b[1;32m---> 18\u001b[1;33m     \u001b[1;32mreturn\u001b[0m \u001b[1;33m{\u001b[0m\u001b[0mk\u001b[0m\u001b[1;33m:\u001b[0m \u001b[0mdeconsify_i\u001b[0m\u001b[1;33m(\u001b[0m\u001b[0mv\u001b[0m\u001b[1;33m)\u001b[0m \u001b[1;32mfor\u001b[0m \u001b[1;33m(\u001b[0m\u001b[0mk\u001b[0m\u001b[1;33m,\u001b[0m\u001b[0mv\u001b[0m\u001b[1;33m)\u001b[0m \u001b[1;32min\u001b[0m \u001b[0ms\u001b[0m\u001b[1;33m.\u001b[0m\u001b[0miteritems\u001b[0m\u001b[1;33m(\u001b[0m\u001b[1;33m)\u001b[0m \u001b[1;33m}\u001b[0m\u001b[1;33m\u001b[0m\u001b[0m\n\u001b[0m",
      "\u001b[1;31mAttributeError\u001b[0m: 'tuple' object has no attribute 'iteritems'"
     ]
    }
   ],
   "source": [
    "map(deconsify_subs,\n",
    "    run(\n",
    "        lambda x, y: conde(\n",
    "            [sumo(x, y, consify_i(10))],\n",
    "            ),\n",
    "        stop=50))"
   ]
  },
  {
   "cell_type": "code",
   "execution_count": null,
   "metadata": {
    "collapsed": true
   },
   "outputs": [],
   "source": []
  },
  {
   "cell_type": "code",
   "execution_count": null,
   "metadata": {
    "collapsed": true
   },
   "outputs": [],
   "source": []
  },
  {
   "cell_type": "code",
   "execution_count": null,
   "metadata": {
    "collapsed": true
   },
   "outputs": [],
   "source": []
  }
 ],
 "metadata": {
  "kernelspec": {
   "display_name": "Python 2",
   "language": "python",
   "name": "python2"
  },
  "language_info": {
   "codemirror_mode": {
    "name": "ipython",
    "version": 2
   },
   "file_extension": ".py",
   "mimetype": "text/x-python",
   "name": "python",
   "nbconvert_exporter": "python",
   "pygments_lexer": "ipython2",
   "version": "2.7.6"
  }
 },
 "nbformat": 4,
 "nbformat_minor": 0
}
