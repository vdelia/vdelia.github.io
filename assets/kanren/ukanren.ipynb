{
 "cells": [
  {
   "cell_type": "markdown",
   "metadata": {},
   "source": [
    "Intro to minikanren\n",
    "\n",
    "TOC:\n",
    "*   implement microkanren\n",
    "*   write minikanren api through macros"
   ]
  },
  {
   "cell_type": "code",
   "execution_count": 1,
   "metadata": {
    "collapsed": true
   },
   "outputs": [],
   "source": [
    "import itertools as it"
   ]
  },
  {
   "cell_type": "markdown",
   "metadata": {},
   "source": [
    "A $\\mu$Kanren program proceeds through the application of a **goal** to a **state**. Goals are often understood by analogy to predicates. Whereas the application of a predicate to an element of its domain can be either true or false, a goal pursued in a given state can either succeed or fail.\n",
    "\n",
    "A **state** is a pair of a substitution (represented as a dictionary) and a non-negative integer representing a fresh- variable counter.\n",
    "\n",
    "LogicVariables are ints, until I want to distinguish them from ints. In that case, I check is_logic_var"
   ]
  },
  {
   "cell_type": "code",
   "execution_count": 2,
   "metadata": {
    "collapsed": false
   },
   "outputs": [],
   "source": [
    "empty_state = ({}, 0)\n",
    "\n",
    "class LogicVariable(int):\n",
    "    \"\"\"\n",
    "    An alias to an int\n",
    "    \"\"\"\n",
    "    def __repr__(self):\n",
    "        return \"LV(%s)\" % super(LogicVariable, self).__repr__()\n",
    "    \n",
    "def is_logic_var(x):\n",
    "    return isinstance(x, LogicVariable)"
   ]
  },
  {
   "cell_type": "markdown",
   "metadata": {},
   "source": [
    "The **walk** operator searches for a variable's value in the substitution; the *ext_s* operator extends the substitution with a new binding. When a non-variable term is walked, the term itself is returned. When extending the substitution, the 􏰀first argument is always a variable, and the second is an arbitrary term."
   ]
  },
  {
   "cell_type": "code",
   "execution_count": 3,
   "metadata": {
    "collapsed": false
   },
   "outputs": [],
   "source": [
    "def walk(var, substitutions):\n",
    "    while is_logic_var(var) and var in substitutions:\n",
    "        var = substitutions[var]\n",
    "    return var\n",
    "\n",
    "def ext_s(var, value, substitutions):\n",
    "    s = dict(substitutions)\n",
    "    s[var] = value\n",
    "    return s"
   ]
  },
  {
   "cell_type": "code",
   "execution_count": 4,
   "metadata": {
    "collapsed": true
   },
   "outputs": [],
   "source": [
    "LV = LogicVariable\n",
    "assert walk(LV(0), {}) == LV(0)\n",
    "assert walk(LV(0), {LV(0): 1}) == 1\n",
    "assert walk(LV(0), {LV(0): LV(1), LV(1): \"something else\"}) == \"something else\""
   ]
  },
  {
   "cell_type": "markdown",
   "metadata": {},
   "source": [
    "Explain unify"
   ]
  },
  {
   "cell_type": "code",
   "execution_count": 5,
   "metadata": {
    "collapsed": true
   },
   "outputs": [],
   "source": [
    "import collections\n",
    "\n",
    "def is_sequence(o):\n",
    "    \"\"\"\n",
    "    I want it to fail on strings\n",
    "    \"\"\"\n",
    "    return hasattr(o, '__iter__')\n",
    "\n",
    "def unify(x, y, substitutions):\n",
    "    if substitutions is None:\n",
    "        return None\n",
    "\n",
    "    x = walk(x, substitutions)\n",
    "    y = walk(y, substitutions)\n",
    "\n",
    "    if is_logic_var(x) and is_logic_var(y) and x == y:\n",
    "        return substitutions\n",
    "    elif is_logic_var(x):\n",
    "        return ext_s(x, y, substitutions)\n",
    "    elif is_logic_var(y):\n",
    "        return ext_s(y, x, substitutions)\n",
    "    elif is_sequence(x) and is_sequence(y):\n",
    "        for a, b in it.izip_longest(x, y):\n",
    "            substitutions = unify(a, b, substitutions)\n",
    "        return substitutions\n",
    "    elif x == y:\n",
    "        return substitutions\n",
    "    return None\n",
    "        \n",
    "        "
   ]
  },
  {
   "cell_type": "code",
   "execution_count": 6,
   "metadata": {
    "collapsed": false
   },
   "outputs": [],
   "source": [
    "assert unify(LV(0), LV(1), {}) == {0: LV(1)} #  0 is 1\n",
    "assert unify(LV(0), LV(1), {LV(0): \"x\", LV(1): \"y\"}) is None  #  they do not unify\n",
    "assert unify(LV(0), 5, {}) == {0: 5}\n",
    "assert unify((LV(0), 1, LV(1)), (1, 2, 3), {}) is None # the second elements differ\n",
    "assert unify((LV(0), 1, LV(1)), (1, 1, 3), {}) == {LV(0): 1, LV(1): 3} # assign the first and the last one\n",
    "\n"
   ]
  },
  {
   "cell_type": "markdown",
   "metadata": {},
   "source": [
    "## Goals builder\n",
    "\n",
    "\n",
    "1.   `equiv` builds a goal which succeeds if its two arguments unify, i.e. it yields the substitutions which make its arguments unify"
   ]
  },
  {
   "cell_type": "code",
   "execution_count": 7,
   "metadata": {
    "collapsed": false
   },
   "outputs": [],
   "source": [
    "def equiv(x, y):\n",
    "    def _goal(state):\n",
    "        substitutions, counter = state\n",
    "        unified = unify(x, y, substitutions)\n",
    "        if unified is not None:\n",
    "            yield (unified, counter)\n",
    "    return _goal"
   ]
  },
  {
   "cell_type": "code",
   "execution_count": 8,
   "metadata": {
    "collapsed": false
   },
   "outputs": [],
   "source": [
    "assert list(equiv(LV(0), 5)(empty_state)) == [({LV(0): 5}, 0)]\n",
    "assert list(equiv(LV(0), LV(1))(empty_state)) == [({LV(0): LV(1)}, 0)]"
   ]
  },
  {
   "cell_type": "markdown",
   "metadata": {},
   "source": [
    "The call/fresh goal constructor takes a unary function f whose body is a goal, and itself returns a goal. This returned goal, when provided a state s/c, binds the formal parameter of f to a new logic variable (built with the variable construc- tor operator var), and passes a state, with the substitution it originally received and a newly incremented fresh-variable counter, c, to the goal that is the body of f."
   ]
  },
  {
   "cell_type": "code",
   "execution_count": 9,
   "metadata": {
    "collapsed": false
   },
   "outputs": [],
   "source": [
    "def call_fresh(goal):\n",
    "    def _new_goal(state):\n",
    "        substitutions, counter = state\n",
    "        return goal(LogicVariable(counter))((substitutions, counter+1))\n",
    "    return _new_goal\n"
   ]
  },
  {
   "cell_type": "code",
   "execution_count": 10,
   "metadata": {
    "collapsed": true
   },
   "outputs": [],
   "source": [
    "from functools import partial as p\n",
    "\n",
    "is_five = p(equiv, 5)\n",
    "assert list(call_fresh(is_five)(empty_state)) == [({LV(0): 5}, 1)]"
   ]
  },
  {
   "cell_type": "markdown",
   "metadata": {},
   "source": [
    "Minikanren utility\n",
    "\n",
    "fresh"
   ]
  },
  {
   "cell_type": "code",
   "execution_count": 47,
   "metadata": {
    "collapsed": false
   },
   "outputs": [
    {
     "data": {
      "text/plain": [
       "[({LV(0): LV(1)}, 2)]"
      ]
     },
     "execution_count": 47,
     "metadata": {},
     "output_type": "execute_result"
    }
   ],
   "source": [
    "import inspect\n",
    "\n",
    "def f(x):\n",
    "    def _g(y):\n",
    "        return equiv(x, y)\n",
    "    return call_fresh(_g)\n",
    "\n",
    "list(call_fresh(f)(empty_state))\n"
   ]
  },
  {
   "cell_type": "code",
   "execution_count": 52,
   "metadata": {
    "collapsed": false
   },
   "outputs": [
    {
     "data": {
      "text/plain": [
       "[({LV(0): 2}, 2), ({LV(1): 3}, 2), ({LV(0): LV(1)}, 2)]"
      ]
     },
     "execution_count": 52,
     "metadata": {},
     "output_type": "execute_result"
    }
   ],
   "source": [
    "def g(x, y):\n",
    "    return disj(equiv(x, 2), equiv(y, 3), equiv(x, y))\n",
    "\n",
    "list(call_fresh(lambda x: call_fresh(lambda y: g(x, y)))(empty_state))"
   ]
  },
  {
   "cell_type": "code",
   "execution_count": 53,
   "metadata": {
    "collapsed": false
   },
   "outputs": [
    {
     "name": "stdout",
     "output_type": "stream",
     "text": [
      "[({LV(0): LV(1)}, 2)]\n",
      "[({LV(0): 2}, 2), ({LV(1): 3}, 2), ({LV(0): LV(1)}, 2)]\n"
     ]
    }
   ],
   "source": [
    "def fresh_helper(curried_goal, nargs):\n",
    "    if nargs == 1:\n",
    "        return call_fresh(curried_goal)\n",
    "    else:\n",
    "        return call_fresh(lambda x: fresh_helper(p(curried_goal, x), nargs-1))\n",
    "    \n",
    "def fresh(variadic_goal):\n",
    "    positional_args = inspect.getargspec(variadic_goal).args\n",
    "    assert positional_args > 0\n",
    "    return fresh_helper(variadic_goal, len(positional_args))\n",
    "    \n",
    "    \n",
    "            \n",
    "print list(fresh(f)(empty_state))\n",
    "print list(fresh(g)(empty_state))"
   ]
  },
  {
   "cell_type": "code",
   "execution_count": 11,
   "metadata": {
    "collapsed": true
   },
   "outputs": [],
   "source": [
    "def disj(*goals):\n",
    "    \"\"\"\n",
    "    it returns a goal which succeeds if either of the arguments succeeds\n",
    "    \"\"\"\n",
    "    def _new_goal(state):\n",
    "        return it.chain.from_iterable([g(state) for g in goals])\n",
    "    return _new_goal\n",
    "\n",
    "def conj(*goals):\n",
    "    \"\"\"\n",
    "    It returns a goal which succeeds if all the goals passed as argument succeed\n",
    "    for that state.\n",
    "    \"\"\"\n",
    "    def _new_goal(state):\n",
    "        stream = goals[0](state)\n",
    "        for g in goals[1:]:\n",
    "            stream = it.chain.from_iterable([g(s) for s in stream])\n",
    "        return stream\n",
    "    return _new_goal"
   ]
  },
  {
   "cell_type": "code",
   "execution_count": 80,
   "metadata": {
    "collapsed": true
   },
   "outputs": [],
   "source": [
    "def run(goal):\n",
    "    for s, c in fresh(goal)(empty_state):\n",
    "        yield s"
   ]
  },
  {
   "cell_type": "markdown",
   "metadata": {},
   "source": [
    "Examples"
   ]
  },
  {
   "cell_type": "code",
   "execution_count": 86,
   "metadata": {
    "collapsed": false
   },
   "outputs": [
    {
     "name": "stdout",
     "output_type": "stream",
     "text": [
      "[('x', 0), ('y', 1)]\n"
     ]
    },
    {
     "data": {
      "text/plain": [
       "[{LV(1): (1, LV(0))}]"
      ]
     },
     "execution_count": 86,
     "metadata": {},
     "output_type": "execute_result"
    }
   ],
   "source": [
    "def conso(a, b, p):\n",
    "    return equiv((a, b), p)\n",
    "\n",
    "list(run(\n",
    "        lambda x, y: conso(1, x, y)\n",
    "        ))"
   ]
  },
  {
   "cell_type": "code",
   "execution_count": 125,
   "metadata": {
    "collapsed": false
   },
   "outputs": [],
   "source": [
    "def reify_s(names, o):\n",
    "    if is_logic_var(o):\n",
    "        return \"_%s\" % names.get(o, \"dummy\")\n",
    "    elif is_sequence(o):\n",
    "        return map(p(reify_s, names), o)\n",
    "    else:\n",
    "        return o\n",
    "        \n",
    "def reify(substitutions, names):\n",
    "    reified = {reify_s(names, k): reify_s(names, v)\n",
    "               for k,v in substitutions.iteritems()}\n",
    "    # I add the free vars to the substitutions\n",
    "    free_vars = [c for c in names if c not in substitutions]\n",
    "    reified.update((names[c], '_') for c in free_vars)\n",
    "    return reified\n",
    "\n",
    "def run(goal):\n",
    "    args = inspect.getargspec(goal).args\n",
    "    names = {n: name for (n, name) in enumerate(args)}\n",
    "    for s, c in fresh(goal)(empty_state):\n",
    "        yield reify(s, names)"
   ]
  },
  {
   "cell_type": "code",
   "execution_count": 133,
   "metadata": {
    "collapsed": false
   },
   "outputs": [
    {
     "data": {
      "text/plain": [
       "[{'_x': 1, '_y': [1, 2, 3, 4, 5], 'z': '_'}]"
      ]
     },
     "execution_count": 133,
     "metadata": {},
     "output_type": "execute_result"
    }
   ],
   "source": [
    "list(run(\n",
    "        lambda x, y, z: conso(x, y, (1, (1,2,3,4,5)))\n",
    "        ))"
   ]
  },
  {
   "cell_type": "code",
   "execution_count": 135,
   "metadata": {
    "collapsed": false
   },
   "outputs": [
    {
     "data": {
      "text/plain": [
       "[{'_dummy': ['_x', [2, [3, 4, 5]]], 'x': '_'}]"
      ]
     },
     "execution_count": 135,
     "metadata": {},
     "output_type": "execute_result"
    }
   ],
   "source": [
    "def firsto(a, b):\n",
    "    return fresh(lambda y: conso(b, a, y))\n",
    "\n",
    "list(run(\n",
    "        lambda x: firsto((2,(3,4,5)), x)\n",
    "        ))"
   ]
  },
  {
   "cell_type": "code",
   "execution_count": null,
   "metadata": {
    "collapsed": true
   },
   "outputs": [],
   "source": []
  }
 ],
 "metadata": {
  "kernelspec": {
   "display_name": "Python 2",
   "language": "python",
   "name": "python2"
  },
  "language_info": {
   "codemirror_mode": {
    "name": "ipython",
    "version": 2
   },
   "file_extension": ".py",
   "mimetype": "text/x-python",
   "name": "python",
   "nbconvert_exporter": "python",
   "pygments_lexer": "ipython2",
   "version": "2.7.8"
  }
 },
 "nbformat": 4,
 "nbformat_minor": 0
}
